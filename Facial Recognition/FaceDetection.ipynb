{
 "cells": [
  {
   "cell_type": "markdown",
   "metadata": {},
   "source": [
    "# 1. Setup and Get Data"
   ]
  },
  {
   "cell_type": "markdown",
   "metadata": {},
   "source": [
    "### 1.1 Install Dependencies and Setup"
   ]
  },
  {
   "cell_type": "code",
   "execution_count": 2,
   "metadata": {
    "tags": []
   },
   "outputs": [
    {
     "name": "stdout",
     "output_type": "stream",
     "text": [
      "Collecting labelme\n",
      "  Using cached labelme-5.4.1.tar.gz (1.4 MB)\n",
      "  Preparing metadata (setup.py): started\n",
      "  Preparing metadata (setup.py): finished with status 'done'\n",
      "Requirement already satisfied: tensorflow in c:\\users\\elige\\anaconda3\\lib\\site-packages (2.14.0)\n",
      "Requirement already satisfied: opencv-python in c:\\users\\elige\\anaconda3\\lib\\site-packages (4.8.1.78)\n",
      "Requirement already satisfied: matplotlib in c:\\users\\elige\\anaconda3\\lib\\site-packages (3.7.1)\n",
      "Collecting albumentations\n",
      "  Obtaining dependency information for albumentations from https://files.pythonhosted.org/packages/9b/f6/c486cedb4f75147232f32ec4c97026714cfef7c7e247a1f0427bc5489f66/albumentations-1.3.1-py3-none-any.whl.metadata\n",
      "  Downloading albumentations-1.3.1-py3-none-any.whl.metadata (34 kB)\n",
      "Requirement already satisfied: gdown in c:\\users\\elige\\anaconda3\\lib\\site-packages (from labelme) (5.1.0)\n",
      "Collecting imgviz>=1.7.5 (from labelme)\n",
      "  Downloading imgviz-1.7.5.tar.gz (7.7 MB)\n",
      "     ---------------------------------------- 0.0/7.7 MB ? eta -:--:--\n",
      "     ---------------------------------------- 0.0/7.7 MB 1.3 MB/s eta 0:00:06\n",
      "     ---------------------------------------- 0.1/7.7 MB 656.4 kB/s eta 0:00:12\n",
      "     ---------------------------------------- 0.1/7.7 MB 573.4 kB/s eta 0:00:14\n",
      "     ---------------------------------------- 0.1/7.7 MB 573.4 kB/s eta 0:00:14\n",
      "      --------------------------------------- 0.1/7.7 MB 554.9 kB/s eta 0:00:14\n",
      "      --------------------------------------- 0.1/7.7 MB 568.9 kB/s eta 0:00:14\n",
      "     - -------------------------------------- 0.2/7.7 MB 655.9 kB/s eta 0:00:12\n",
      "     - -------------------------------------- 0.2/7.7 MB 621.6 kB/s eta 0:00:13\n",
      "     - -------------------------------------- 0.2/7.7 MB 621.6 kB/s eta 0:00:13\n",
      "     - -------------------------------------- 0.2/7.7 MB 529.7 kB/s eta 0:00:15\n",
      "     - -------------------------------------- 0.2/7.7 MB 529.7 kB/s eta 0:00:15\n",
      "     - -------------------------------------- 0.3/7.7 MB 571.2 kB/s eta 0:00:13\n",
      "     - -------------------------------------- 0.3/7.7 MB 597.8 kB/s eta 0:00:13\n",
      "     - -------------------------------------- 0.3/7.7 MB 599.0 kB/s eta 0:00:13\n",
      "     - -------------------------------------- 0.3/7.7 MB 599.0 kB/s eta 0:00:13\n",
      "     - -------------------------------------- 0.4/7.7 MB 559.1 kB/s eta 0:00:14\n",
      "     -- ------------------------------------- 0.4/7.7 MB 563.8 kB/s eta 0:00:13\n",
      "     -- ------------------------------------- 0.4/7.7 MB 598.2 kB/s eta 0:00:13\n",
      "     -- ------------------------------------- 0.4/7.7 MB 598.2 kB/s eta 0:00:13\n",
      "     -- ------------------------------------- 0.5/7.7 MB 578.2 kB/s eta 0:00:13\n",
      "     -- ------------------------------------- 0.5/7.7 MB 570.2 kB/s eta 0:00:13\n",
      "     -- ------------------------------------- 0.5/7.7 MB 585.1 kB/s eta 0:00:13\n",
      "     -- ------------------------------------- 0.5/7.7 MB 586.1 kB/s eta 0:00:13\n",
      "     -- ------------------------------------- 0.6/7.7 MB 591.0 kB/s eta 0:00:13\n",
      "     --- ------------------------------------ 0.6/7.7 MB 582.8 kB/s eta 0:00:13\n",
      "     --- ------------------------------------ 0.6/7.7 MB 568.4 kB/s eta 0:00:13\n",
      "     --- ------------------------------------ 0.7/7.7 MB 589.7 kB/s eta 0:00:12\n",
      "     --- ------------------------------------ 0.7/7.7 MB 592.3 kB/s eta 0:00:12\n",
      "     --- ------------------------------------ 0.7/7.7 MB 587.3 kB/s eta 0:00:12\n",
      "     --- ------------------------------------ 0.7/7.7 MB 604.4 kB/s eta 0:00:12\n",
      "     ---- ----------------------------------- 0.8/7.7 MB 591.5 kB/s eta 0:00:12\n",
      "     ---- ----------------------------------- 0.8/7.7 MB 593.7 kB/s eta 0:00:12\n",
      "     ---- ----------------------------------- 0.8/7.7 MB 603.2 kB/s eta 0:00:12\n",
      "     ---- ----------------------------------- 0.8/7.7 MB 597.2 kB/s eta 0:00:12\n",
      "     ---- ----------------------------------- 0.9/7.7 MB 605.3 kB/s eta 0:00:12\n",
      "     ---- ----------------------------------- 0.9/7.7 MB 607.6 kB/s eta 0:00:12\n",
      "     ---- ----------------------------------- 1.0/7.7 MB 609.0 kB/s eta 0:00:12\n",
      "     ----- ---------------------------------- 1.0/7.7 MB 610.3 kB/s eta 0:00:11\n",
      "     ----- ---------------------------------- 1.0/7.7 MB 617.5 kB/s eta 0:00:11\n",
      "     ----- ---------------------------------- 1.0/7.7 MB 618.6 kB/s eta 0:00:11\n",
      "     ----- ---------------------------------- 1.1/7.7 MB 637.8 kB/s eta 0:00:11\n",
      "     ----- ---------------------------------- 1.1/7.7 MB 638.2 kB/s eta 0:00:11\n",
      "     ------ --------------------------------- 1.2/7.7 MB 633.1 kB/s eta 0:00:11\n",
      "     ------ --------------------------------- 1.2/7.7 MB 649.9 kB/s eta 0:00:10\n",
      "     ------ --------------------------------- 1.3/7.7 MB 655.2 kB/s eta 0:00:10\n",
      "     ------ --------------------------------- 1.3/7.7 MB 655.4 kB/s eta 0:00:10\n",
      "     ------ --------------------------------- 1.3/7.7 MB 665.6 kB/s eta 0:00:10\n",
      "     ------- -------------------------------- 1.4/7.7 MB 660.2 kB/s eta 0:00:10\n",
      "     ------- -------------------------------- 1.4/7.7 MB 665.0 kB/s eta 0:00:10\n",
      "     ------- -------------------------------- 1.4/7.7 MB 664.9 kB/s eta 0:00:10\n",
      "     ------- -------------------------------- 1.5/7.7 MB 673.7 kB/s eta 0:00:10\n",
      "     -------- ------------------------------- 1.5/7.7 MB 678.1 kB/s eta 0:00:10\n",
      "     -------- ------------------------------- 1.6/7.7 MB 690.6 kB/s eta 0:00:09\n",
      "     -------- ------------------------------- 1.6/7.7 MB 690.2 kB/s eta 0:00:09\n",
      "     -------- ------------------------------- 1.7/7.7 MB 693.8 kB/s eta 0:00:09\n",
      "     --------- ------------------------------ 1.7/7.7 MB 701.3 kB/s eta 0:00:09\n",
      "     --------- ------------------------------ 1.8/7.7 MB 708.6 kB/s eta 0:00:09\n",
      "     --------- ------------------------------ 1.9/7.7 MB 723.7 kB/s eta 0:00:09\n",
      "     --------- ------------------------------ 1.9/7.7 MB 726.4 kB/s eta 0:00:08\n",
      "     ---------- ----------------------------- 2.0/7.7 MB 732.5 kB/s eta 0:00:08\n",
      "     ---------- ----------------------------- 2.0/7.7 MB 742.5 kB/s eta 0:00:08\n",
      "     ---------- ----------------------------- 2.1/7.7 MB 755.9 kB/s eta 0:00:08\n",
      "     ----------- ---------------------------- 2.2/7.7 MB 765.2 kB/s eta 0:00:08\n",
      "     ----------- ---------------------------- 2.2/7.7 MB 774.1 kB/s eta 0:00:08\n",
      "     ----------- ---------------------------- 2.2/7.7 MB 776.5 kB/s eta 0:00:07\n",
      "     ------------ --------------------------- 2.3/7.7 MB 784.2 kB/s eta 0:00:07\n",
      "     ------------ --------------------------- 2.3/7.7 MB 786.4 kB/s eta 0:00:07\n",
      "     ------------ --------------------------- 2.4/7.7 MB 794.5 kB/s eta 0:00:07\n",
      "     ------------ --------------------------- 2.5/7.7 MB 802.4 kB/s eta 0:00:07\n",
      "     ------------ --------------------------- 2.5/7.7 MB 805.1 kB/s eta 0:00:07\n",
      "     ------------- -------------------------- 2.5/7.7 MB 805.2 kB/s eta 0:00:07\n",
      "     ------------- -------------------------- 2.6/7.7 MB 806.2 kB/s eta 0:00:07\n",
      "     ------------- -------------------------- 2.6/7.7 MB 803.4 kB/s eta 0:00:07\n",
      "     -------------- ------------------------- 2.7/7.7 MB 819.9 kB/s eta 0:00:07\n",
      "     -------------- ------------------------- 2.8/7.7 MB 829.9 kB/s eta 0:00:06\n",
      "     -------------- ------------------------- 2.8/7.7 MB 832.8 kB/s eta 0:00:06\n",
      "     --------------- ------------------------ 2.9/7.7 MB 839.9 kB/s eta 0:00:06\n",
      "     --------------- ------------------------ 3.0/7.7 MB 842.6 kB/s eta 0:00:06\n",
      "     --------------- ------------------------ 3.0/7.7 MB 845.9 kB/s eta 0:00:06\n",
      "     ---------------- ----------------------- 3.1/7.7 MB 851.9 kB/s eta 0:00:06\n",
      "     ---------------- ----------------------- 3.1/7.7 MB 855.0 kB/s eta 0:00:06\n",
      "     ---------------- ----------------------- 3.2/7.7 MB 863.5 kB/s eta 0:00:06\n",
      "     ---------------- ----------------------- 3.3/7.7 MB 865.6 kB/s eta 0:00:06\n",
      "     ----------------- ---------------------- 3.3/7.7 MB 868.4 kB/s eta 0:00:06\n",
      "     ----------------- ---------------------- 3.3/7.7 MB 872.8 kB/s eta 0:00:05\n",
      "     ----------------- ---------------------- 3.4/7.7 MB 874.7 kB/s eta 0:00:05\n",
      "     ------------------ --------------------- 3.5/7.7 MB 879.9 kB/s eta 0:00:05\n",
      "     ------------------ --------------------- 3.5/7.7 MB 882.4 kB/s eta 0:00:05\n",
      "     ------------------ --------------------- 3.6/7.7 MB 887.3 kB/s eta 0:00:05\n",
      "     ------------------ --------------------- 3.6/7.7 MB 884.6 kB/s eta 0:00:05\n",
      "     ------------------- -------------------- 3.7/7.7 MB 892.9 kB/s eta 0:00:05\n",
      "     ------------------- -------------------- 3.7/7.7 MB 895.2 kB/s eta 0:00:05\n",
      "     ------------------- -------------------- 3.8/7.7 MB 897.3 kB/s eta 0:00:05\n",
      "     ------------------- -------------------- 3.8/7.7 MB 899.7 kB/s eta 0:00:05\n",
      "     -------------------- ------------------- 3.9/7.7 MB 904.2 kB/s eta 0:00:05\n",
      "     -------------------- ------------------- 3.9/7.7 MB 906.2 kB/s eta 0:00:05\n",
      "     -------------------- ------------------- 4.0/7.7 MB 908.1 kB/s eta 0:00:05\n",
      "     -------------------- ------------------- 4.0/7.7 MB 911.0 kB/s eta 0:00:05\n",
      "     --------------------- ------------------ 4.1/7.7 MB 909.7 kB/s eta 0:00:04\n",
      "     --------------------- ------------------ 4.1/7.7 MB 916.1 kB/s eta 0:00:04\n",
      "     --------------------- ------------------ 4.2/7.7 MB 912.6 kB/s eta 0:00:04\n",
      "     ---------------------- ----------------- 4.2/7.7 MB 917.6 kB/s eta 0:00:04\n",
      "     ---------------------- ----------------- 4.3/7.7 MB 919.3 kB/s eta 0:00:04\n",
      "     ---------------------- ----------------- 4.3/7.7 MB 917.9 kB/s eta 0:00:04\n",
      "     ---------------------- ----------------- 4.4/7.7 MB 922.7 kB/s eta 0:00:04\n",
      "     ----------------------- ---------------- 4.5/7.7 MB 923.4 kB/s eta 0:00:04\n",
      "     ----------------------- ---------------- 4.5/7.7 MB 925.2 kB/s eta 0:00:04\n",
      "     ----------------------- ---------------- 4.6/7.7 MB 928.8 kB/s eta 0:00:04\n",
      "     ------------------------ --------------- 4.6/7.7 MB 930.3 kB/s eta 0:00:04\n",
      "     ------------------------ --------------- 4.7/7.7 MB 932.8 kB/s eta 0:00:04\n",
      "     ------------------------ --------------- 4.7/7.7 MB 934.2 kB/s eta 0:00:04\n",
      "     ------------------------ --------------- 4.8/7.7 MB 935.7 kB/s eta 0:00:04\n",
      "     ------------------------- -------------- 4.8/7.7 MB 939.1 kB/s eta 0:00:04\n",
      "     ------------------------- -------------- 4.9/7.7 MB 943.4 kB/s eta 0:00:03\n",
      "     ------------------------- -------------- 4.9/7.7 MB 944.7 kB/s eta 0:00:03\n",
      "     ------------------------- -------------- 5.0/7.7 MB 946.0 kB/s eta 0:00:03\n",
      "     -------------------------- ------------- 5.0/7.7 MB 945.3 kB/s eta 0:00:03\n",
      "     -------------------------- ------------- 5.1/7.7 MB 949.4 kB/s eta 0:00:03\n",
      "     -------------------------- ------------- 5.1/7.7 MB 951.6 kB/s eta 0:00:03\n",
      "     --------------------------- ------------ 5.2/7.7 MB 953.7 kB/s eta 0:00:03\n",
      "     --------------------------- ------------ 5.2/7.7 MB 954.9 kB/s eta 0:00:03\n",
      "     --------------------------- ------------ 5.3/7.7 MB 957.0 kB/s eta 0:00:03\n",
      "     --------------------------- ------------ 5.3/7.7 MB 959.0 kB/s eta 0:00:03\n",
      "     ---------------------------- ----------- 5.4/7.7 MB 962.1 kB/s eta 0:00:03\n",
      "     ---------------------------- ----------- 5.5/7.7 MB 960.5 kB/s eta 0:00:03\n",
      "     ---------------------------- ----------- 5.5/7.7 MB 962.4 kB/s eta 0:00:03\n",
      "     ---------------------------- ----------- 5.6/7.7 MB 963.5 kB/s eta 0:00:03\n",
      "     ----------------------------- ---------- 5.6/7.7 MB 967.1 kB/s eta 0:00:03\n",
      "     ----------------------------- ---------- 5.7/7.7 MB 968.1 kB/s eta 0:00:03\n",
      "     ----------------------------- ---------- 5.7/7.7 MB 968.2 kB/s eta 0:00:03\n",
      "     ------------------------------ --------- 5.8/7.7 MB 971.8 kB/s eta 0:00:02\n",
      "     ------------------------------ --------- 5.8/7.7 MB 973.7 kB/s eta 0:00:02\n",
      "     ------------------------------ --------- 5.9/7.7 MB 976.2 kB/s eta 0:00:02\n",
      "     ------------------------------ --------- 5.9/7.7 MB 976.2 kB/s eta 0:00:02\n",
      "     ------------------------------- -------- 6.0/7.7 MB 977.2 kB/s eta 0:00:02\n",
      "     ------------------------------- -------- 6.0/7.7 MB 979.8 kB/s eta 0:00:02\n",
      "     ------------------------------- -------- 6.1/7.7 MB 980.6 kB/s eta 0:00:02\n",
      "     -------------------------------- ------- 6.2/7.7 MB 984.7 kB/s eta 0:00:02\n",
      "     -------------------------------- ------- 6.2/7.7 MB 983.8 kB/s eta 0:00:02\n",
      "     -------------------------------- ------- 6.3/7.7 MB 984.6 kB/s eta 0:00:02\n",
      "     -------------------------------- ------- 6.3/7.7 MB 984.7 kB/s eta 0:00:02\n",
      "     --------------------------------- ------ 6.4/7.7 MB 987.7 kB/s eta 0:00:02\n",
      "     --------------------------------- ------ 6.4/7.7 MB 988.6 kB/s eta 0:00:02\n",
      "     --------------------------------- ------ 6.5/7.7 MB 988.5 kB/s eta 0:00:02\n",
      "     ---------------------------------- ----- 6.5/7.7 MB 990.8 kB/s eta 0:00:02\n",
      "     ---------------------------------- ----- 6.6/7.7 MB 991.5 kB/s eta 0:00:02\n",
      "     ---------------------------------- ----- 6.6/7.7 MB 990.6 kB/s eta 0:00:02\n",
      "     ---------------------------------- ----- 6.7/7.7 MB 992.1 kB/s eta 0:00:01\n",
      "     ----------------------------------- ---- 6.8/7.7 MB 995.2 kB/s eta 0:00:01\n",
      "     ----------------------------------- ---- 6.8/7.7 MB 995.8 kB/s eta 0:00:01\n",
      "     ----------------------------------- ---- 6.9/7.7 MB 996.4 kB/s eta 0:00:01\n",
      "     ------------------------------------ --- 6.9/7.7 MB 997.7 kB/s eta 0:00:01\n",
      "     ---------------------------------- --- 7.0/7.7 MB 1,000.0 kB/s eta 0:00:01\n",
      "     ------------------------------------ --- 7.0/7.7 MB 1.0 MB/s eta 0:00:01\n",
      "     ------------------------------------- -- 7.1/7.7 MB 1.0 MB/s eta 0:00:01\n",
      "     ------------------------------------- -- 7.2/7.7 MB 1.0 MB/s eta 0:00:01\n",
      "     ------------------------------------- -- 7.2/7.7 MB 1.0 MB/s eta 0:00:01\n",
      "     ------------------------------------- -- 7.3/7.7 MB 1.0 MB/s eta 0:00:01\n",
      "     -------------------------------------- - 7.3/7.7 MB 1.0 MB/s eta 0:00:01\n",
      "     -------------------------------------- - 7.4/7.7 MB 1.0 MB/s eta 0:00:01\n",
      "     -------------------------------------- - 7.4/7.7 MB 1.0 MB/s eta 0:00:01\n",
      "     ---------------------------------------  7.5/7.7 MB 1.0 MB/s eta 0:00:01\n",
      "     ---------------------------------------  7.5/7.7 MB 1.0 MB/s eta 0:00:01\n",
      "     ---------------------------------------  7.6/7.7 MB 1.0 MB/s eta 0:00:01\n",
      "     ---------------------------------------  7.7/7.7 MB 1.0 MB/s eta 0:00:01\n",
      "     ---------------------------------------- 7.7/7.7 MB 1.0 MB/s eta 0:00:00\n",
      "  Preparing metadata (setup.py): started\n",
      "  Preparing metadata (setup.py): finished with status 'done'\n",
      "Collecting natsort>=7.1.0 (from labelme)\n",
      "  Obtaining dependency information for natsort>=7.1.0 from https://files.pythonhosted.org/packages/ef/82/7a9d0550484a62c6da82858ee9419f3dd1ccc9aa1c26a1e43da3ecd20b0d/natsort-8.4.0-py3-none-any.whl.metadata\n",
      "  Downloading natsort-8.4.0-py3-none-any.whl.metadata (21 kB)\n",
      "Requirement already satisfied: numpy in c:\\users\\elige\\anaconda3\\lib\\site-packages (from labelme) (1.24.3)\n",
      "Collecting onnxruntime!=1.16.0,>=1.14.1 (from labelme)\n",
      "  Obtaining dependency information for onnxruntime!=1.16.0,>=1.14.1 from https://files.pythonhosted.org/packages/e0/05/3b50a005bf8dc68660d1a686a6c98ed4985844eee4d6156adc1667ca3c49/onnxruntime-1.17.0-cp311-cp311-win_amd64.whl.metadata\n",
      "  Downloading onnxruntime-1.17.0-cp311-cp311-win_amd64.whl.metadata (4.3 kB)\n",
      "Requirement already satisfied: Pillow>=2.8 in c:\\users\\elige\\anaconda3\\lib\\site-packages (from labelme) (9.4.0)\n",
      "Requirement already satisfied: PyYAML in c:\\users\\elige\\anaconda3\\lib\\site-packages (from labelme) (6.0)\n",
      "Requirement already satisfied: qtpy!=1.11.2 in c:\\users\\elige\\anaconda3\\lib\\site-packages (from labelme) (2.2.0)\n",
      "Requirement already satisfied: scikit-image in c:\\users\\elige\\anaconda3\\lib\\site-packages (from labelme) (0.20.0)\n",
      "Requirement already satisfied: termcolor in c:\\users\\elige\\anaconda3\\lib\\site-packages (from labelme) (2.3.0)\n",
      "Requirement already satisfied: colorama in c:\\users\\elige\\anaconda3\\lib\\site-packages (from labelme) (0.4.6)\n",
      "Requirement already satisfied: tensorflow-intel==2.14.0 in c:\\users\\elige\\anaconda3\\lib\\site-packages (from tensorflow) (2.14.0)\n",
      "Requirement already satisfied: absl-py>=1.0.0 in c:\\users\\elige\\anaconda3\\lib\\site-packages (from tensorflow-intel==2.14.0->tensorflow) (2.0.0)\n",
      "Requirement already satisfied: astunparse>=1.6.0 in c:\\users\\elige\\anaconda3\\lib\\site-packages (from tensorflow-intel==2.14.0->tensorflow) (1.6.3)\n",
      "Requirement already satisfied: flatbuffers>=23.5.26 in c:\\users\\elige\\anaconda3\\lib\\site-packages (from tensorflow-intel==2.14.0->tensorflow) (23.5.26)\n",
      "Requirement already satisfied: gast!=0.5.0,!=0.5.1,!=0.5.2,>=0.2.1 in c:\\users\\elige\\anaconda3\\lib\\site-packages (from tensorflow-intel==2.14.0->tensorflow) (0.4.0)\n",
      "Requirement already satisfied: google-pasta>=0.1.1 in c:\\users\\elige\\anaconda3\\lib\\site-packages (from tensorflow-intel==2.14.0->tensorflow) (0.2.0)\n",
      "Requirement already satisfied: h5py>=2.9.0 in c:\\users\\elige\\anaconda3\\lib\\site-packages (from tensorflow-intel==2.14.0->tensorflow) (3.7.0)\n",
      "Requirement already satisfied: libclang>=13.0.0 in c:\\users\\elige\\anaconda3\\lib\\site-packages (from tensorflow-intel==2.14.0->tensorflow) (16.0.6)\n",
      "Requirement already satisfied: ml-dtypes==0.2.0 in c:\\users\\elige\\anaconda3\\lib\\site-packages (from tensorflow-intel==2.14.0->tensorflow) (0.2.0)\n",
      "Requirement already satisfied: opt-einsum>=2.3.2 in c:\\users\\elige\\anaconda3\\lib\\site-packages (from tensorflow-intel==2.14.0->tensorflow) (3.3.0)\n",
      "Requirement already satisfied: packaging in c:\\users\\elige\\anaconda3\\lib\\site-packages (from tensorflow-intel==2.14.0->tensorflow) (23.0)\n",
      "Requirement already satisfied: protobuf!=4.21.0,!=4.21.1,!=4.21.2,!=4.21.3,!=4.21.4,!=4.21.5,<5.0.0dev,>=3.20.3 in c:\\users\\elige\\anaconda3\\lib\\site-packages (from tensorflow-intel==2.14.0->tensorflow) (4.24.3)\n",
      "Requirement already satisfied: setuptools in c:\\users\\elige\\anaconda3\\lib\\site-packages (from tensorflow-intel==2.14.0->tensorflow) (68.0.0)\n",
      "Requirement already satisfied: six>=1.12.0 in c:\\users\\elige\\anaconda3\\lib\\site-packages (from tensorflow-intel==2.14.0->tensorflow) (1.16.0)\n",
      "Requirement already satisfied: typing-extensions>=3.6.6 in c:\\users\\elige\\anaconda3\\lib\\site-packages (from tensorflow-intel==2.14.0->tensorflow) (4.8.0)\n",
      "Requirement already satisfied: wrapt<1.15,>=1.11.0 in c:\\users\\elige\\anaconda3\\lib\\site-packages (from tensorflow-intel==2.14.0->tensorflow) (1.14.1)\n",
      "Requirement already satisfied: tensorflow-io-gcs-filesystem>=0.23.1 in c:\\users\\elige\\anaconda3\\lib\\site-packages (from tensorflow-intel==2.14.0->tensorflow) (0.31.0)\n",
      "Requirement already satisfied: grpcio<2.0,>=1.24.3 in c:\\users\\elige\\anaconda3\\lib\\site-packages (from tensorflow-intel==2.14.0->tensorflow) (1.59.0)\n",
      "Requirement already satisfied: tensorboard<2.15,>=2.14 in c:\\users\\elige\\anaconda3\\lib\\site-packages (from tensorflow-intel==2.14.0->tensorflow) (2.14.1)\n",
      "Requirement already satisfied: tensorflow-estimator<2.15,>=2.14.0 in c:\\users\\elige\\anaconda3\\lib\\site-packages (from tensorflow-intel==2.14.0->tensorflow) (2.14.0)\n",
      "Requirement already satisfied: keras<2.15,>=2.14.0 in c:\\users\\elige\\anaconda3\\lib\\site-packages (from tensorflow-intel==2.14.0->tensorflow) (2.14.0)\n",
      "Requirement already satisfied: contourpy>=1.0.1 in c:\\users\\elige\\anaconda3\\lib\\site-packages (from matplotlib) (1.0.5)\n",
      "Requirement already satisfied: cycler>=0.10 in c:\\users\\elige\\anaconda3\\lib\\site-packages (from matplotlib) (0.11.0)\n",
      "Requirement already satisfied: fonttools>=4.22.0 in c:\\users\\elige\\anaconda3\\lib\\site-packages (from matplotlib) (4.25.0)\n",
      "Requirement already satisfied: kiwisolver>=1.0.1 in c:\\users\\elige\\anaconda3\\lib\\site-packages (from matplotlib) (1.4.4)\n",
      "Requirement already satisfied: pyparsing>=2.3.1 in c:\\users\\elige\\anaconda3\\lib\\site-packages (from matplotlib) (3.0.9)\n",
      "Requirement already satisfied: python-dateutil>=2.7 in c:\\users\\elige\\anaconda3\\lib\\site-packages (from matplotlib) (2.8.2)\n",
      "Requirement already satisfied: scipy>=1.1.0 in c:\\users\\elige\\anaconda3\\lib\\site-packages (from albumentations) (1.10.1)\n",
      "Collecting qudida>=0.0.4 (from albumentations)\n",
      "  Downloading qudida-0.0.4-py3-none-any.whl (3.5 kB)\n",
      "Collecting opencv-python-headless>=4.1.1 (from albumentations)\n",
      "  Obtaining dependency information for opencv-python-headless>=4.1.1 from https://files.pythonhosted.org/packages/20/44/458a0a135866f5e08266566b32ad9a182a7a059a894effe6c41a9c841ff1/opencv_python_headless-4.9.0.80-cp37-abi3-win_amd64.whl.metadata\n",
      "  Downloading opencv_python_headless-4.9.0.80-cp37-abi3-win_amd64.whl.metadata (20 kB)\n",
      "Collecting coloredlogs (from onnxruntime!=1.16.0,>=1.14.1->labelme)\n",
      "  Downloading coloredlogs-15.0.1-py2.py3-none-any.whl (46 kB)\n",
      "     ---------------------------------------- 0.0/46.0 kB ? eta -:--:--\n",
      "     ---------------------------------------- 46.0/46.0 kB 1.2 MB/s eta 0:00:00\n",
      "Requirement already satisfied: sympy in c:\\users\\elige\\anaconda3\\lib\\site-packages (from onnxruntime!=1.16.0,>=1.14.1->labelme) (1.11.1)\n",
      "Requirement already satisfied: scikit-learn>=0.19.1 in c:\\users\\elige\\anaconda3\\lib\\site-packages (from qudida>=0.0.4->albumentations) (1.3.0)\n",
      "Requirement already satisfied: networkx>=2.8 in c:\\users\\elige\\anaconda3\\lib\\site-packages (from scikit-image->labelme) (3.1)\n",
      "Requirement already satisfied: imageio>=2.4.1 in c:\\users\\elige\\anaconda3\\lib\\site-packages (from scikit-image->labelme) (2.26.0)\n",
      "Requirement already satisfied: tifffile>=2019.7.26 in c:\\users\\elige\\anaconda3\\lib\\site-packages (from scikit-image->labelme) (2021.7.2)\n",
      "Requirement already satisfied: PyWavelets>=1.1.1 in c:\\users\\elige\\anaconda3\\lib\\site-packages (from scikit-image->labelme) (1.4.1)\n",
      "Requirement already satisfied: lazy_loader>=0.1 in c:\\users\\elige\\anaconda3\\lib\\site-packages (from scikit-image->labelme) (0.2)\n",
      "Requirement already satisfied: beautifulsoup4 in c:\\users\\elige\\anaconda3\\lib\\site-packages (from gdown->labelme) (4.12.2)\n",
      "Requirement already satisfied: filelock in c:\\users\\elige\\anaconda3\\lib\\site-packages (from gdown->labelme) (3.9.0)\n",
      "Requirement already satisfied: requests[socks] in c:\\users\\elige\\anaconda3\\lib\\site-packages (from gdown->labelme) (2.31.0)\n",
      "Requirement already satisfied: tqdm in c:\\users\\elige\\anaconda3\\lib\\site-packages (from gdown->labelme) (4.65.0)\n",
      "Requirement already satisfied: wheel<1.0,>=0.23.0 in c:\\users\\elige\\anaconda3\\lib\\site-packages (from astunparse>=1.6.0->tensorflow-intel==2.14.0->tensorflow) (0.38.4)\n",
      "Requirement already satisfied: joblib>=1.1.1 in c:\\users\\elige\\anaconda3\\lib\\site-packages (from scikit-learn>=0.19.1->qudida>=0.0.4->albumentations) (1.2.0)\n",
      "Requirement already satisfied: threadpoolctl>=2.0.0 in c:\\users\\elige\\anaconda3\\lib\\site-packages (from scikit-learn>=0.19.1->qudida>=0.0.4->albumentations) (2.2.0)\n",
      "Requirement already satisfied: google-auth<3,>=1.6.3 in c:\\users\\elige\\anaconda3\\lib\\site-packages (from tensorboard<2.15,>=2.14->tensorflow-intel==2.14.0->tensorflow) (2.23.0)\n",
      "Requirement already satisfied: google-auth-oauthlib<1.1,>=0.5 in c:\\users\\elige\\anaconda3\\lib\\site-packages (from tensorboard<2.15,>=2.14->tensorflow-intel==2.14.0->tensorflow) (1.0.0)\n",
      "Requirement already satisfied: markdown>=2.6.8 in c:\\users\\elige\\anaconda3\\lib\\site-packages (from tensorboard<2.15,>=2.14->tensorflow-intel==2.14.0->tensorflow) (3.4.1)\n",
      "Requirement already satisfied: tensorboard-data-server<0.8.0,>=0.7.0 in c:\\users\\elige\\anaconda3\\lib\\site-packages (from tensorboard<2.15,>=2.14->tensorflow-intel==2.14.0->tensorflow) (0.7.1)\n",
      "Requirement already satisfied: werkzeug>=1.0.1 in c:\\users\\elige\\anaconda3\\lib\\site-packages (from tensorboard<2.15,>=2.14->tensorflow-intel==2.14.0->tensorflow) (3.0.1)\n",
      "Requirement already satisfied: soupsieve>1.2 in c:\\users\\elige\\anaconda3\\lib\\site-packages (from beautifulsoup4->gdown->labelme) (2.4)\n",
      "Collecting humanfriendly>=9.1 (from coloredlogs->onnxruntime!=1.16.0,>=1.14.1->labelme)\n",
      "  Downloading humanfriendly-10.0-py2.py3-none-any.whl (86 kB)\n",
      "     ---------------------------------------- 0.0/86.8 kB ? eta -:--:--\n",
      "     ---------------------------- ----------- 61.4/86.8 kB 1.1 MB/s eta 0:00:01\n",
      "     -------------------------------------- 86.8/86.8 kB 969.0 kB/s eta 0:00:00\n",
      "Requirement already satisfied: charset-normalizer<4,>=2 in c:\\users\\elige\\anaconda3\\lib\\site-packages (from requests[socks]->gdown->labelme) (2.0.4)\n",
      "Requirement already satisfied: idna<4,>=2.5 in c:\\users\\elige\\anaconda3\\lib\\site-packages (from requests[socks]->gdown->labelme) (3.4)\n",
      "Requirement already satisfied: urllib3<3,>=1.21.1 in c:\\users\\elige\\anaconda3\\lib\\site-packages (from requests[socks]->gdown->labelme) (1.26.16)\n",
      "Requirement already satisfied: certifi>=2017.4.17 in c:\\users\\elige\\anaconda3\\lib\\site-packages (from requests[socks]->gdown->labelme) (2023.11.17)\n",
      "Requirement already satisfied: PySocks!=1.5.7,>=1.5.6 in c:\\users\\elige\\anaconda3\\lib\\site-packages (from requests[socks]->gdown->labelme) (1.7.1)\n",
      "Requirement already satisfied: mpmath>=0.19 in c:\\users\\elige\\anaconda3\\lib\\site-packages (from sympy->onnxruntime!=1.16.0,>=1.14.1->labelme) (1.3.0)\n",
      "Requirement already satisfied: cachetools<6.0,>=2.0.0 in c:\\users\\elige\\anaconda3\\lib\\site-packages (from google-auth<3,>=1.6.3->tensorboard<2.15,>=2.14->tensorflow-intel==2.14.0->tensorflow) (5.3.1)\n",
      "Requirement already satisfied: pyasn1-modules>=0.2.1 in c:\\users\\elige\\anaconda3\\lib\\site-packages (from google-auth<3,>=1.6.3->tensorboard<2.15,>=2.14->tensorflow-intel==2.14.0->tensorflow) (0.2.8)\n",
      "Requirement already satisfied: rsa<5,>=3.1.4 in c:\\users\\elige\\anaconda3\\lib\\site-packages (from google-auth<3,>=1.6.3->tensorboard<2.15,>=2.14->tensorflow-intel==2.14.0->tensorflow) (4.9)\n",
      "Requirement already satisfied: requests-oauthlib>=0.7.0 in c:\\users\\elige\\anaconda3\\lib\\site-packages (from google-auth-oauthlib<1.1,>=0.5->tensorboard<2.15,>=2.14->tensorflow-intel==2.14.0->tensorflow) (1.3.1)\n",
      "Collecting pyreadline3 (from humanfriendly>=9.1->coloredlogs->onnxruntime!=1.16.0,>=1.14.1->labelme)\n",
      "  Downloading pyreadline3-3.4.1-py3-none-any.whl (95 kB)\n",
      "     ---------------------------------------- 0.0/95.2 kB ? eta -:--:--\n",
      "     ---------------- --------------------- 41.0/95.2 kB 991.0 kB/s eta 0:00:01\n",
      "     ---------------------------------------- 95.2/95.2 kB 1.1 MB/s eta 0:00:00\n",
      "Requirement already satisfied: MarkupSafe>=2.1.1 in c:\\users\\elige\\anaconda3\\lib\\site-packages (from werkzeug>=1.0.1->tensorboard<2.15,>=2.14->tensorflow-intel==2.14.0->tensorflow) (2.1.1)\n",
      "Requirement already satisfied: pyasn1<0.5.0,>=0.4.6 in c:\\users\\elige\\anaconda3\\lib\\site-packages (from pyasn1-modules>=0.2.1->google-auth<3,>=1.6.3->tensorboard<2.15,>=2.14->tensorflow-intel==2.14.0->tensorflow) (0.4.8)\n",
      "Requirement already satisfied: oauthlib>=3.0.0 in c:\\users\\elige\\anaconda3\\lib\\site-packages (from requests-oauthlib>=0.7.0->google-auth-oauthlib<1.1,>=0.5->tensorboard<2.15,>=2.14->tensorflow-intel==2.14.0->tensorflow) (3.2.2)\n",
      "Downloading albumentations-1.3.1-py3-none-any.whl (125 kB)\n",
      "   ---------------------------------------- 0.0/125.7 kB ? eta -:--:--\n",
      "   ---------------------------------------- 0.0/125.7 kB ? eta -:--:--\n",
      "   ------------ -------------------------- 41.0/125.7 kB 991.0 kB/s eta 0:00:01\n",
      "   ------------------- -------------------- 61.4/125.7 kB 1.1 MB/s eta 0:00:01\n",
      "   ---------------------------------------  122.9/125.7 kB 1.0 MB/s eta 0:00:01\n",
      "   ---------------------------------------- 125.7/125.7 kB 1.1 MB/s eta 0:00:00\n",
      "Downloading natsort-8.4.0-py3-none-any.whl (38 kB)\n",
      "Downloading onnxruntime-1.17.0-cp311-cp311-win_amd64.whl (5.6 MB)\n",
      "   ---------------------------------------- 0.0/5.6 MB ? eta -:--:--\n",
      "   ---------------------------------------- 0.0/5.6 MB 660.6 kB/s eta 0:00:09\n",
      "   ---------------------------------------- 0.0/5.6 MB 653.6 kB/s eta 0:00:09\n",
      "   ---------------------------------------- 0.0/5.6 MB 653.6 kB/s eta 0:00:09\n",
      "    --------------------------------------- 0.1/5.6 MB 357.2 kB/s eta 0:00:16\n",
      "    --------------------------------------- 0.1/5.6 MB 504.4 kB/s eta 0:00:11\n",
      "   - -------------------------------------- 0.2/5.6 MB 573.4 kB/s eta 0:00:10\n",
      "   - -------------------------------------- 0.2/5.6 MB 655.1 kB/s eta 0:00:09\n",
      "   - -------------------------------------- 0.2/5.6 MB 686.8 kB/s eta 0:00:08\n",
      "   -- ------------------------------------- 0.3/5.6 MB 791.9 kB/s eta 0:00:07\n",
      "   -- ------------------------------------- 0.4/5.6 MB 825.0 kB/s eta 0:00:07\n",
      "   -- ------------------------------------- 0.4/5.6 MB 859.0 kB/s eta 0:00:07\n",
      "   --- ------------------------------------ 0.5/5.6 MB 873.2 kB/s eta 0:00:06\n",
      "   --- ------------------------------------ 0.5/5.6 MB 891.2 kB/s eta 0:00:06\n",
      "   --- ------------------------------------ 0.5/5.6 MB 896.4 kB/s eta 0:00:06\n",
      "   ---- ----------------------------------- 0.6/5.6 MB 958.5 kB/s eta 0:00:06\n",
      "   ---- ----------------------------------- 0.7/5.6 MB 937.7 kB/s eta 0:00:06\n",
      "   ---- ----------------------------------- 0.7/5.6 MB 975.9 kB/s eta 0:00:06\n",
      "   ----- ---------------------------------- 0.8/5.6 MB 975.9 kB/s eta 0:00:05\n",
      "   ----- ---------------------------------- 0.8/5.6 MB 1.0 MB/s eta 0:00:05\n",
      "   ------ --------------------------------- 0.9/5.6 MB 1.0 MB/s eta 0:00:05\n",
      "   ------ --------------------------------- 0.9/5.6 MB 1.0 MB/s eta 0:00:05\n",
      "   ------ --------------------------------- 1.0/5.6 MB 1.0 MB/s eta 0:00:05\n",
      "   ------- -------------------------------- 1.0/5.6 MB 1.0 MB/s eta 0:00:05\n",
      "   ------- -------------------------------- 1.0/5.6 MB 973.3 kB/s eta 0:00:05\n",
      "   ------- -------------------------------- 1.0/5.6 MB 973.3 kB/s eta 0:00:05\n",
      "   ------- -------------------------------- 1.0/5.6 MB 973.3 kB/s eta 0:00:05\n",
      "   ------- -------------------------------- 1.0/5.6 MB 973.3 kB/s eta 0:00:05\n",
      "   ------- -------------------------------- 1.0/5.6 MB 973.3 kB/s eta 0:00:05\n",
      "   ------- -------------------------------- 1.0/5.6 MB 827.4 kB/s eta 0:00:06\n",
      "   ------- -------------------------------- 1.1/5.6 MB 831.4 kB/s eta 0:00:06\n",
      "   -------- ------------------------------- 1.1/5.6 MB 840.5 kB/s eta 0:00:06\n",
      "   -------- ------------------------------- 1.2/5.6 MB 859.0 kB/s eta 0:00:06\n",
      "   -------- ------------------------------- 1.2/5.6 MB 864.1 kB/s eta 0:00:06\n",
      "   --------- ------------------------------ 1.3/5.6 MB 880.9 kB/s eta 0:00:05\n",
      "   --------- ------------------------------ 1.3/5.6 MB 880.9 kB/s eta 0:00:05\n",
      "   --------- ------------------------------ 1.3/5.6 MB 880.9 kB/s eta 0:00:05\n",
      "   ---------- ----------------------------- 1.4/5.6 MB 891.0 kB/s eta 0:00:05\n",
      "   ---------- ----------------------------- 1.5/5.6 MB 888.5 kB/s eta 0:00:05\n",
      "   ----------- ---------------------------- 1.5/5.6 MB 901.9 kB/s eta 0:00:05\n",
      "   ----------- ---------------------------- 1.6/5.6 MB 903.5 kB/s eta 0:00:05\n",
      "   ----------- ---------------------------- 1.6/5.6 MB 908.4 kB/s eta 0:00:05\n",
      "   ------------ --------------------------- 1.7/5.6 MB 920.6 kB/s eta 0:00:05\n",
      "   ------------ --------------------------- 1.7/5.6 MB 925.4 kB/s eta 0:00:05\n",
      "   ------------ --------------------------- 1.8/5.6 MB 934.8 kB/s eta 0:00:05\n",
      "   ------------- -------------------------- 1.8/5.6 MB 933.3 kB/s eta 0:00:05\n",
      "   ------------- -------------------------- 1.9/5.6 MB 944.5 kB/s eta 0:00:04\n",
      "   ------------- -------------------------- 2.0/5.6 MB 950.5 kB/s eta 0:00:04\n",
      "   -------------- ------------------------- 2.0/5.6 MB 948.7 kB/s eta 0:00:04\n",
      "   -------------- ------------------------- 2.0/5.6 MB 954.1 kB/s eta 0:00:04\n",
      "   -------------- ------------------------- 2.1/5.6 MB 957.1 kB/s eta 0:00:04\n",
      "   --------------- ------------------------ 2.2/5.6 MB 969.1 kB/s eta 0:00:04\n",
      "   --------------- ------------------------ 2.2/5.6 MB 971.6 kB/s eta 0:00:04\n",
      "   ---------------- ----------------------- 2.3/5.6 MB 976.3 kB/s eta 0:00:04\n",
      "   ---------------- ----------------------- 2.3/5.6 MB 978.6 kB/s eta 0:00:04\n",
      "   ---------------- ----------------------- 2.3/5.6 MB 976.5 kB/s eta 0:00:04\n",
      "   ----------------- ---------------------- 2.4/5.6 MB 987.0 kB/s eta 0:00:04\n",
      "   ----------------- ---------------------- 2.5/5.6 MB 991.2 kB/s eta 0:00:04\n",
      "   ----------------- ---------------------- 2.5/5.6 MB 989.0 kB/s eta 0:00:04\n",
      "   ------------------ --------------------- 2.6/5.6 MB 997.0 kB/s eta 0:00:04\n",
      "   ------------------ --------------------- 2.6/5.6 MB 998.6 kB/s eta 0:00:03\n",
      "   ------------------- -------------------- 2.7/5.6 MB 1.0 MB/s eta 0:00:03\n",
      "   ------------------- -------------------- 2.7/5.6 MB 1.0 MB/s eta 0:00:03\n",
      "   ------------------- -------------------- 2.8/5.6 MB 1.0 MB/s eta 0:00:03\n",
      "   -------------------- ------------------- 2.8/5.6 MB 1.0 MB/s eta 0:00:03\n",
      "   -------------------- ------------------- 2.9/5.6 MB 1.0 MB/s eta 0:00:03\n",
      "   -------------------- ------------------- 2.9/5.6 MB 1.0 MB/s eta 0:00:03\n",
      "   --------------------- ------------------ 3.0/5.6 MB 1.0 MB/s eta 0:00:03\n",
      "   --------------------- ------------------ 3.0/5.6 MB 1.0 MB/s eta 0:00:03\n",
      "   ---------------------- ----------------- 3.1/5.6 MB 1.0 MB/s eta 0:00:03\n",
      "   ---------------------- ----------------- 3.1/5.6 MB 1.0 MB/s eta 0:00:03\n",
      "   ---------------------- ----------------- 3.2/5.6 MB 1.0 MB/s eta 0:00:03\n",
      "   ----------------------- ---------------- 3.2/5.6 MB 1.0 MB/s eta 0:00:03\n",
      "   ----------------------- ---------------- 3.3/5.6 MB 1.0 MB/s eta 0:00:03\n",
      "   ----------------------- ---------------- 3.3/5.6 MB 1.0 MB/s eta 0:00:03\n",
      "   ------------------------ --------------- 3.4/5.6 MB 1.0 MB/s eta 0:00:03\n",
      "   ------------------------ --------------- 3.4/5.6 MB 1.0 MB/s eta 0:00:03\n",
      "   ------------------------ --------------- 3.5/5.6 MB 1.0 MB/s eta 0:00:03\n",
      "   ------------------------- -------------- 3.5/5.6 MB 1.0 MB/s eta 0:00:02\n",
      "   ------------------------- -------------- 3.6/5.6 MB 1.0 MB/s eta 0:00:02\n",
      "   ------------------------- -------------- 3.6/5.6 MB 1.0 MB/s eta 0:00:02\n",
      "   -------------------------- ------------- 3.7/5.6 MB 1.0 MB/s eta 0:00:02\n",
      "   -------------------------- ------------- 3.7/5.6 MB 1.0 MB/s eta 0:00:02\n",
      "   -------------------------- ------------- 3.8/5.6 MB 1.0 MB/s eta 0:00:02\n",
      "   --------------------------- ------------ 3.8/5.6 MB 1.0 MB/s eta 0:00:02\n",
      "   --------------------------- ------------ 3.9/5.6 MB 1.0 MB/s eta 0:00:02\n",
      "   ---------------------------- ----------- 4.0/5.6 MB 1.0 MB/s eta 0:00:02\n",
      "   ---------------------------- ----------- 4.0/5.6 MB 1.0 MB/s eta 0:00:02\n",
      "   ----------------------------- ---------- 4.1/5.6 MB 1.0 MB/s eta 0:00:02\n",
      "   ----------------------------- ---------- 4.1/5.6 MB 1.0 MB/s eta 0:00:02\n",
      "   ----------------------------- ---------- 4.2/5.6 MB 1.0 MB/s eta 0:00:02\n",
      "   ------------------------------ --------- 4.2/5.6 MB 1.0 MB/s eta 0:00:02\n",
      "   ------------------------------ --------- 4.3/5.6 MB 1.0 MB/s eta 0:00:02\n",
      "   ------------------------------- -------- 4.3/5.6 MB 1.1 MB/s eta 0:00:02\n",
      "   ------------------------------- -------- 4.4/5.6 MB 1.0 MB/s eta 0:00:02\n",
      "   ------------------------------- -------- 4.5/5.6 MB 1.0 MB/s eta 0:00:02\n",
      "   -------------------------------- ------- 4.5/5.6 MB 1.1 MB/s eta 0:00:02\n",
      "   -------------------------------- ------- 4.5/5.6 MB 1.1 MB/s eta 0:00:02\n",
      "   -------------------------------- ------- 4.6/5.6 MB 1.1 MB/s eta 0:00:01\n",
      "   --------------------------------- ------ 4.6/5.6 MB 1.1 MB/s eta 0:00:01\n",
      "   --------------------------------- ------ 4.7/5.6 MB 1.1 MB/s eta 0:00:01\n",
      "   --------------------------------- ------ 4.8/5.6 MB 1.1 MB/s eta 0:00:01\n",
      "   ---------------------------------- ----- 4.8/5.6 MB 1.1 MB/s eta 0:00:01\n",
      "   ---------------------------------- ----- 4.9/5.6 MB 1.1 MB/s eta 0:00:01\n",
      "   ----------------------------------- ---- 4.9/5.6 MB 1.1 MB/s eta 0:00:01\n",
      "   ----------------------------------- ---- 4.9/5.6 MB 1.1 MB/s eta 0:00:01\n",
      "   ----------------------------------- ---- 5.0/5.6 MB 1.1 MB/s eta 0:00:01\n",
      "   ------------------------------------ --- 5.0/5.6 MB 1.1 MB/s eta 0:00:01\n",
      "   ------------------------------------ --- 5.1/5.6 MB 1.1 MB/s eta 0:00:01\n",
      "   ------------------------------------ --- 5.2/5.6 MB 1.1 MB/s eta 0:00:01\n",
      "   ------------------------------------- -- 5.2/5.6 MB 1.1 MB/s eta 0:00:01\n",
      "   ------------------------------------- -- 5.3/5.6 MB 1.1 MB/s eta 0:00:01\n",
      "   -------------------------------------- - 5.3/5.6 MB 1.1 MB/s eta 0:00:01\n",
      "   -------------------------------------- - 5.4/5.6 MB 1.1 MB/s eta 0:00:01\n",
      "   -------------------------------------- - 5.4/5.6 MB 1.1 MB/s eta 0:00:01\n",
      "   ---------------------------------------  5.5/5.6 MB 1.1 MB/s eta 0:00:01\n",
      "   ---------------------------------------  5.5/5.6 MB 1.1 MB/s eta 0:00:01\n",
      "   ---------------------------------------  5.6/5.6 MB 1.1 MB/s eta 0:00:01\n",
      "   ---------------------------------------- 5.6/5.6 MB 1.1 MB/s eta 0:00:00\n",
      "Downloading opencv_python_headless-4.9.0.80-cp37-abi3-win_amd64.whl (38.5 MB)\n",
      "   ---------------------------------------- 0.0/38.5 MB ? eta -:--:--\n",
      "   ---------------------------------------- 0.0/38.5 MB 1.3 MB/s eta 0:00:31\n",
      "   ---------------------------------------- 0.1/38.5 MB 1.5 MB/s eta 0:00:26\n",
      "   ---------------------------------------- 0.1/38.5 MB 1.2 MB/s eta 0:00:33\n",
      "   ---------------------------------------- 0.2/38.5 MB 1.3 MB/s eta 0:00:30\n",
      "   ---------------------------------------- 0.2/38.5 MB 1.3 MB/s eta 0:00:31\n",
      "   ---------------------------------------- 0.3/38.5 MB 1.3 MB/s eta 0:00:31\n",
      "   ---------------------------------------- 0.3/38.5 MB 1.2 MB/s eta 0:00:32\n",
      "   ---------------------------------------- 0.4/38.5 MB 1.2 MB/s eta 0:00:32\n",
      "   ---------------------------------------- 0.5/38.5 MB 1.2 MB/s eta 0:00:32\n",
      "    --------------------------------------- 0.5/38.5 MB 1.2 MB/s eta 0:00:32\n",
      "    --------------------------------------- 0.6/38.5 MB 1.2 MB/s eta 0:00:32\n",
      "    --------------------------------------- 0.6/38.5 MB 1.2 MB/s eta 0:00:31\n",
      "    --------------------------------------- 0.7/38.5 MB 1.2 MB/s eta 0:00:32\n",
      "    --------------------------------------- 0.7/38.5 MB 1.2 MB/s eta 0:00:32\n",
      "    --------------------------------------- 0.8/38.5 MB 1.2 MB/s eta 0:00:32\n",
      "    --------------------------------------- 0.8/38.5 MB 1.2 MB/s eta 0:00:32\n",
      "    --------------------------------------- 0.8/38.5 MB 1.2 MB/s eta 0:00:32\n",
      "    --------------------------------------- 0.9/38.5 MB 1.2 MB/s eta 0:00:32\n",
      "   - -------------------------------------- 1.0/38.5 MB 1.2 MB/s eta 0:00:32\n",
      "   - -------------------------------------- 1.0/38.5 MB 1.2 MB/s eta 0:00:32\n",
      "   - -------------------------------------- 1.1/38.5 MB 1.2 MB/s eta 0:00:32\n",
      "   - -------------------------------------- 1.1/38.5 MB 1.2 MB/s eta 0:00:32\n",
      "   - -------------------------------------- 1.2/38.5 MB 1.2 MB/s eta 0:00:32\n",
      "   - -------------------------------------- 1.2/38.5 MB 1.2 MB/s eta 0:00:32\n",
      "   - -------------------------------------- 1.3/38.5 MB 1.2 MB/s eta 0:00:31\n",
      "   - -------------------------------------- 1.3/38.5 MB 1.2 MB/s eta 0:00:32\n",
      "   - -------------------------------------- 1.4/38.5 MB 1.2 MB/s eta 0:00:32\n",
      "   - -------------------------------------- 1.4/38.5 MB 1.2 MB/s eta 0:00:32\n",
      "   - -------------------------------------- 1.5/38.5 MB 1.2 MB/s eta 0:00:32\n",
      "   - -------------------------------------- 1.6/38.5 MB 1.2 MB/s eta 0:00:32\n",
      "   - -------------------------------------- 1.6/38.5 MB 1.2 MB/s eta 0:00:31\n",
      "   - -------------------------------------- 1.7/38.5 MB 1.2 MB/s eta 0:00:31\n",
      "   - -------------------------------------- 1.7/38.5 MB 1.2 MB/s eta 0:00:31\n",
      "   - -------------------------------------- 1.8/38.5 MB 1.2 MB/s eta 0:00:31\n",
      "   - -------------------------------------- 1.8/38.5 MB 1.2 MB/s eta 0:00:31\n",
      "   - -------------------------------------- 1.9/38.5 MB 1.2 MB/s eta 0:00:31\n",
      "   -- ------------------------------------- 2.0/38.5 MB 1.2 MB/s eta 0:00:31\n",
      "   -- ------------------------------------- 2.0/38.5 MB 1.2 MB/s eta 0:00:31\n",
      "   -- ------------------------------------- 2.1/38.5 MB 1.2 MB/s eta 0:00:31\n",
      "   -- ------------------------------------- 2.1/38.5 MB 1.2 MB/s eta 0:00:31\n",
      "   -- ------------------------------------- 2.2/38.5 MB 1.2 MB/s eta 0:00:31\n",
      "   -- ------------------------------------- 2.2/38.5 MB 1.2 MB/s eta 0:00:31\n",
      "   -- ------------------------------------- 2.3/38.5 MB 1.2 MB/s eta 0:00:31\n",
      "   -- ------------------------------------- 2.4/38.5 MB 1.2 MB/s eta 0:00:31\n",
      "   -- ------------------------------------- 2.4/38.5 MB 1.2 MB/s eta 0:00:31\n",
      "   -- ------------------------------------- 2.5/38.5 MB 1.2 MB/s eta 0:00:31\n",
      "   -- ------------------------------------- 2.5/38.5 MB 1.2 MB/s eta 0:00:31\n",
      "   -- ------------------------------------- 2.6/38.5 MB 1.2 MB/s eta 0:00:31\n",
      "   -- ------------------------------------- 2.6/38.5 MB 1.2 MB/s eta 0:00:31\n",
      "   -- ------------------------------------- 2.7/38.5 MB 1.2 MB/s eta 0:00:31\n",
      "   -- ------------------------------------- 2.7/38.5 MB 1.2 MB/s eta 0:00:31\n",
      "   -- ------------------------------------- 2.8/38.5 MB 1.2 MB/s eta 0:00:31\n",
      "   -- ------------------------------------- 2.8/38.5 MB 1.2 MB/s eta 0:00:31\n",
      "   -- ------------------------------------- 2.9/38.5 MB 1.2 MB/s eta 0:00:31\n",
      "   --- ------------------------------------ 2.9/38.5 MB 1.2 MB/s eta 0:00:31\n",
      "   --- ------------------------------------ 3.0/38.5 MB 1.2 MB/s eta 0:00:30\n",
      "   --- ------------------------------------ 3.1/38.5 MB 1.2 MB/s eta 0:00:31\n",
      "   --- ------------------------------------ 3.1/38.5 MB 1.2 MB/s eta 0:00:30\n",
      "   --- ------------------------------------ 3.2/38.5 MB 1.2 MB/s eta 0:00:30\n",
      "   --- ------------------------------------ 3.2/38.5 MB 1.2 MB/s eta 0:00:30\n",
      "   --- ------------------------------------ 3.3/38.5 MB 1.2 MB/s eta 0:00:30\n",
      "   --- ------------------------------------ 3.3/38.5 MB 1.2 MB/s eta 0:00:30\n",
      "   --- ------------------------------------ 3.4/38.5 MB 1.2 MB/s eta 0:00:30\n",
      "   --- ------------------------------------ 3.4/38.5 MB 1.2 MB/s eta 0:00:30\n",
      "   --- ------------------------------------ 3.5/38.5 MB 1.2 MB/s eta 0:00:30\n",
      "   --- ------------------------------------ 3.6/38.5 MB 1.2 MB/s eta 0:00:30\n",
      "   --- ------------------------------------ 3.6/38.5 MB 1.2 MB/s eta 0:00:30\n",
      "   --- ------------------------------------ 3.7/38.5 MB 1.2 MB/s eta 0:00:30\n",
      "   --- ------------------------------------ 3.7/38.5 MB 1.2 MB/s eta 0:00:30\n",
      "   --- ------------------------------------ 3.8/38.5 MB 1.2 MB/s eta 0:00:30\n",
      "   --- ------------------------------------ 3.9/38.5 MB 1.2 MB/s eta 0:00:30\n",
      "   ---- ----------------------------------- 3.9/38.5 MB 1.2 MB/s eta 0:00:30\n",
      "   ---- ----------------------------------- 4.0/38.5 MB 1.2 MB/s eta 0:00:30\n",
      "   ---- ----------------------------------- 4.0/38.5 MB 1.2 MB/s eta 0:00:30\n",
      "   ---- ----------------------------------- 4.0/38.5 MB 1.2 MB/s eta 0:00:30\n",
      "   ---- ----------------------------------- 4.1/38.5 MB 1.2 MB/s eta 0:00:30\n",
      "   ---- ----------------------------------- 4.2/38.5 MB 1.2 MB/s eta 0:00:29\n",
      "   ---- ----------------------------------- 4.2/38.5 MB 1.2 MB/s eta 0:00:30\n",
      "   ---- ----------------------------------- 4.3/38.5 MB 1.2 MB/s eta 0:00:29\n",
      "   ---- ----------------------------------- 4.3/38.5 MB 1.2 MB/s eta 0:00:29\n",
      "   ---- ----------------------------------- 4.4/38.5 MB 1.2 MB/s eta 0:00:29\n",
      "   ---- ----------------------------------- 4.4/38.5 MB 1.2 MB/s eta 0:00:29\n",
      "   ---- ----------------------------------- 4.5/38.5 MB 1.2 MB/s eta 0:00:29\n",
      "   ---- ----------------------------------- 4.6/38.5 MB 1.2 MB/s eta 0:00:29\n",
      "   ---- ----------------------------------- 4.6/38.5 MB 1.2 MB/s eta 0:00:29\n",
      "   ---- ----------------------------------- 4.7/38.5 MB 1.2 MB/s eta 0:00:29\n",
      "   ---- ----------------------------------- 4.7/38.5 MB 1.2 MB/s eta 0:00:29\n",
      "   ---- ----------------------------------- 4.8/38.5 MB 1.2 MB/s eta 0:00:29\n",
      "   ----- ---------------------------------- 4.9/38.5 MB 1.2 MB/s eta 0:00:29\n",
      "   ----- ---------------------------------- 4.9/38.5 MB 1.2 MB/s eta 0:00:29\n",
      "   ----- ---------------------------------- 5.0/38.5 MB 1.2 MB/s eta 0:00:29\n",
      "   ----- ---------------------------------- 5.0/38.5 MB 1.2 MB/s eta 0:00:29\n",
      "   ----- ---------------------------------- 5.1/38.5 MB 1.2 MB/s eta 0:00:29\n",
      "   ----- ---------------------------------- 5.1/38.5 MB 1.2 MB/s eta 0:00:29\n",
      "   ----- ---------------------------------- 5.2/38.5 MB 1.2 MB/s eta 0:00:29\n",
      "   ----- ---------------------------------- 5.3/38.5 MB 1.2 MB/s eta 0:00:29\n",
      "   ----- ---------------------------------- 5.3/38.5 MB 1.2 MB/s eta 0:00:29\n",
      "   ----- ---------------------------------- 5.4/38.5 MB 1.2 MB/s eta 0:00:29\n",
      "   ----- ---------------------------------- 5.4/38.5 MB 1.2 MB/s eta 0:00:29\n",
      "   ----- ---------------------------------- 5.5/38.5 MB 1.2 MB/s eta 0:00:28\n",
      "   ----- ---------------------------------- 5.5/38.5 MB 1.2 MB/s eta 0:00:28\n",
      "   ----- ---------------------------------- 5.6/38.5 MB 1.2 MB/s eta 0:00:28\n",
      "   ----- ---------------------------------- 5.6/38.5 MB 1.2 MB/s eta 0:00:28\n",
      "   ----- ---------------------------------- 5.7/38.5 MB 1.2 MB/s eta 0:00:28\n",
      "   ----- ---------------------------------- 5.7/38.5 MB 1.2 MB/s eta 0:00:28\n",
      "   ------ --------------------------------- 5.8/38.5 MB 1.2 MB/s eta 0:00:28\n",
      "   ------ --------------------------------- 5.8/38.5 MB 1.2 MB/s eta 0:00:28\n",
      "   ------ --------------------------------- 5.9/38.5 MB 1.2 MB/s eta 0:00:28\n",
      "   ------ --------------------------------- 5.9/38.5 MB 1.2 MB/s eta 0:00:28\n",
      "   ------ --------------------------------- 6.0/38.5 MB 1.2 MB/s eta 0:00:28\n",
      "   ------ --------------------------------- 6.1/38.5 MB 1.2 MB/s eta 0:00:28\n",
      "   ------ --------------------------------- 6.1/38.5 MB 1.2 MB/s eta 0:00:28\n",
      "   ------ --------------------------------- 6.2/38.5 MB 1.2 MB/s eta 0:00:28\n",
      "   ------ --------------------------------- 6.2/38.5 MB 1.2 MB/s eta 0:00:28\n",
      "   ------ --------------------------------- 6.3/38.5 MB 1.2 MB/s eta 0:00:28\n",
      "   ------ --------------------------------- 6.3/38.5 MB 1.2 MB/s eta 0:00:28\n",
      "   ------ --------------------------------- 6.4/38.5 MB 1.2 MB/s eta 0:00:28\n",
      "   ------ --------------------------------- 6.4/38.5 MB 1.2 MB/s eta 0:00:28\n",
      "   ------ --------------------------------- 6.5/38.5 MB 1.2 MB/s eta 0:00:28\n",
      "   ------ --------------------------------- 6.5/38.5 MB 1.2 MB/s eta 0:00:28\n",
      "   ------ --------------------------------- 6.6/38.5 MB 1.2 MB/s eta 0:00:28\n",
      "   ------ --------------------------------- 6.6/38.5 MB 1.2 MB/s eta 0:00:28\n",
      "   ------ --------------------------------- 6.7/38.5 MB 1.2 MB/s eta 0:00:28\n",
      "   ------- -------------------------------- 6.8/38.5 MB 1.2 MB/s eta 0:00:27\n",
      "   ------- -------------------------------- 6.8/38.5 MB 1.2 MB/s eta 0:00:27\n",
      "   ------- -------------------------------- 6.9/38.5 MB 1.2 MB/s eta 0:00:27\n",
      "   ------- -------------------------------- 6.9/38.5 MB 1.2 MB/s eta 0:00:27\n",
      "   ------- -------------------------------- 7.0/38.5 MB 1.2 MB/s eta 0:00:27\n",
      "   ------- -------------------------------- 7.0/38.5 MB 1.2 MB/s eta 0:00:27\n",
      "   ------- -------------------------------- 7.1/38.5 MB 1.2 MB/s eta 0:00:27\n",
      "   ------- -------------------------------- 7.1/38.5 MB 1.2 MB/s eta 0:00:27\n",
      "   ------- -------------------------------- 7.2/38.5 MB 1.2 MB/s eta 0:00:27\n",
      "   ------- -------------------------------- 7.3/38.5 MB 1.2 MB/s eta 0:00:27\n",
      "   ------- -------------------------------- 7.3/38.5 MB 1.2 MB/s eta 0:00:27\n",
      "   ------- -------------------------------- 7.4/38.5 MB 1.2 MB/s eta 0:00:27\n",
      "   ------- -------------------------------- 7.4/38.5 MB 1.2 MB/s eta 0:00:27\n",
      "   ------- -------------------------------- 7.5/38.5 MB 1.2 MB/s eta 0:00:27\n",
      "   ------- -------------------------------- 7.5/38.5 MB 1.2 MB/s eta 0:00:27\n",
      "   ------- -------------------------------- 7.6/38.5 MB 1.2 MB/s eta 0:00:27\n",
      "   ------- -------------------------------- 7.7/38.5 MB 1.2 MB/s eta 0:00:27\n",
      "   -------- ------------------------------- 7.7/38.5 MB 1.2 MB/s eta 0:00:27\n",
      "   -------- ------------------------------- 7.8/38.5 MB 1.2 MB/s eta 0:00:27\n",
      "   -------- ------------------------------- 7.8/38.5 MB 1.2 MB/s eta 0:00:27\n",
      "   -------- ------------------------------- 7.9/38.5 MB 1.2 MB/s eta 0:00:27\n",
      "   -------- ------------------------------- 7.9/38.5 MB 1.2 MB/s eta 0:00:27\n",
      "   -------- ------------------------------- 7.9/38.5 MB 1.2 MB/s eta 0:00:27\n",
      "   -------- ------------------------------- 8.0/38.5 MB 1.2 MB/s eta 0:00:27\n",
      "   -------- ------------------------------- 8.0/38.5 MB 1.2 MB/s eta 0:00:27\n",
      "   -------- ------------------------------- 8.1/38.5 MB 1.2 MB/s eta 0:00:26\n",
      "   -------- ------------------------------- 8.2/38.5 MB 1.2 MB/s eta 0:00:26\n",
      "   -------- ------------------------------- 8.2/38.5 MB 1.2 MB/s eta 0:00:26\n",
      "   -------- ------------------------------- 8.2/38.5 MB 1.2 MB/s eta 0:00:26\n",
      "   -------- ------------------------------- 8.3/38.5 MB 1.2 MB/s eta 0:00:26\n",
      "   -------- ------------------------------- 8.3/38.5 MB 1.2 MB/s eta 0:00:26\n",
      "   -------- ------------------------------- 8.4/38.5 MB 1.2 MB/s eta 0:00:26\n",
      "   -------- ------------------------------- 8.4/38.5 MB 1.2 MB/s eta 0:00:26\n",
      "   -------- ------------------------------- 8.5/38.5 MB 1.2 MB/s eta 0:00:26\n",
      "   -------- ------------------------------- 8.6/38.5 MB 1.2 MB/s eta 0:00:26\n",
      "   -------- ------------------------------- 8.6/38.5 MB 1.2 MB/s eta 0:00:26\n",
      "   -------- ------------------------------- 8.6/38.5 MB 1.2 MB/s eta 0:00:26\n",
      "   --------- ------------------------------ 8.7/38.5 MB 1.2 MB/s eta 0:00:26\n",
      "   --------- ------------------------------ 8.7/38.5 MB 1.2 MB/s eta 0:00:26\n",
      "   --------- ------------------------------ 8.8/38.5 MB 1.2 MB/s eta 0:00:26\n",
      "   --------- ------------------------------ 8.8/38.5 MB 1.2 MB/s eta 0:00:26\n",
      "   --------- ------------------------------ 8.9/38.5 MB 1.2 MB/s eta 0:00:26\n",
      "   --------- ------------------------------ 8.9/38.5 MB 1.2 MB/s eta 0:00:26\n",
      "   --------- ------------------------------ 9.0/38.5 MB 1.2 MB/s eta 0:00:26\n",
      "   --------- ------------------------------ 9.1/38.5 MB 1.2 MB/s eta 0:00:26\n",
      "   --------- ------------------------------ 9.1/38.5 MB 1.2 MB/s eta 0:00:26\n",
      "   --------- ------------------------------ 9.2/38.5 MB 1.2 MB/s eta 0:00:26\n",
      "   --------- ------------------------------ 9.2/38.5 MB 1.2 MB/s eta 0:00:26\n",
      "   --------- ------------------------------ 9.3/38.5 MB 1.2 MB/s eta 0:00:25\n",
      "   --------- ------------------------------ 9.3/38.5 MB 1.2 MB/s eta 0:00:26\n",
      "   --------- ------------------------------ 9.4/38.5 MB 1.2 MB/s eta 0:00:25\n",
      "   --------- ------------------------------ 9.4/38.5 MB 1.2 MB/s eta 0:00:25\n",
      "   --------- ------------------------------ 9.5/38.5 MB 1.2 MB/s eta 0:00:25\n",
      "   --------- ------------------------------ 9.6/38.5 MB 1.2 MB/s eta 0:00:25\n",
      "   --------- ------------------------------ 9.6/38.5 MB 1.2 MB/s eta 0:00:25\n",
      "   ---------- ----------------------------- 9.6/38.5 MB 1.2 MB/s eta 0:00:25\n",
      "   ---------- ----------------------------- 9.7/38.5 MB 1.2 MB/s eta 0:00:25\n",
      "   ---------- ----------------------------- 9.8/38.5 MB 1.2 MB/s eta 0:00:25\n",
      "   ---------- ----------------------------- 9.8/38.5 MB 1.2 MB/s eta 0:00:25\n",
      "   ---------- ----------------------------- 9.9/38.5 MB 1.2 MB/s eta 0:00:25\n",
      "   ---------- ----------------------------- 9.9/38.5 MB 1.2 MB/s eta 0:00:25\n",
      "   ---------- ----------------------------- 10.0/38.5 MB 1.2 MB/s eta 0:00:25\n",
      "   ---------- ----------------------------- 10.0/38.5 MB 1.2 MB/s eta 0:00:25\n",
      "   ---------- ----------------------------- 10.1/38.5 MB 1.2 MB/s eta 0:00:25\n",
      "   ---------- ----------------------------- 10.1/38.5 MB 1.2 MB/s eta 0:00:25\n",
      "   ---------- ----------------------------- 10.2/38.5 MB 1.2 MB/s eta 0:00:25\n",
      "   ---------- ----------------------------- 10.2/38.5 MB 1.2 MB/s eta 0:00:25\n",
      "   ---------- ----------------------------- 10.3/38.5 MB 1.2 MB/s eta 0:00:25\n",
      "   ---------- ----------------------------- 10.3/38.5 MB 1.2 MB/s eta 0:00:25\n",
      "   ---------- ----------------------------- 10.4/38.5 MB 1.2 MB/s eta 0:00:25\n",
      "   ---------- ----------------------------- 10.4/38.5 MB 1.2 MB/s eta 0:00:25\n",
      "   ---------- ----------------------------- 10.5/38.5 MB 1.2 MB/s eta 0:00:25\n",
      "   ---------- ----------------------------- 10.5/38.5 MB 1.2 MB/s eta 0:00:25\n",
      "   ----------- ---------------------------- 10.6/38.5 MB 1.2 MB/s eta 0:00:25\n",
      "   ----------- ---------------------------- 10.7/38.5 MB 1.2 MB/s eta 0:00:25\n",
      "   ----------- ---------------------------- 10.7/38.5 MB 1.2 MB/s eta 0:00:24\n",
      "   ----------- ---------------------------- 10.8/38.5 MB 1.2 MB/s eta 0:00:24\n",
      "   ----------- ---------------------------- 10.8/38.5 MB 1.2 MB/s eta 0:00:24\n",
      "   ----------- ---------------------------- 10.9/38.5 MB 1.2 MB/s eta 0:00:24\n",
      "   ----------- ---------------------------- 10.9/38.5 MB 1.2 MB/s eta 0:00:24\n",
      "   ----------- ---------------------------- 11.0/38.5 MB 1.2 MB/s eta 0:00:24\n",
      "   ----------- ---------------------------- 11.0/38.5 MB 1.2 MB/s eta 0:00:24\n",
      "   ----------- ---------------------------- 11.0/38.5 MB 1.2 MB/s eta 0:00:24\n",
      "   ----------- ---------------------------- 11.1/38.5 MB 1.2 MB/s eta 0:00:24\n",
      "   ----------- ---------------------------- 11.2/38.5 MB 1.2 MB/s eta 0:00:24\n",
      "   ----------- ---------------------------- 11.2/38.5 MB 1.2 MB/s eta 0:00:24\n",
      "   ----------- ---------------------------- 11.3/38.5 MB 1.2 MB/s eta 0:00:24\n",
      "   ----------- ---------------------------- 11.3/38.5 MB 1.2 MB/s eta 0:00:24\n",
      "   ----------- ---------------------------- 11.4/38.5 MB 1.2 MB/s eta 0:00:24\n",
      "   ----------- ---------------------------- 11.4/38.5 MB 1.2 MB/s eta 0:00:24\n",
      "   ----------- ---------------------------- 11.4/38.5 MB 1.2 MB/s eta 0:00:24\n",
      "   ----------- ---------------------------- 11.5/38.5 MB 1.2 MB/s eta 0:00:24\n",
      "   ----------- ---------------------------- 11.5/38.5 MB 1.2 MB/s eta 0:00:24\n",
      "   ----------- ---------------------------- 11.5/38.5 MB 1.2 MB/s eta 0:00:24\n",
      "   ----------- ---------------------------- 11.5/38.5 MB 1.2 MB/s eta 0:00:24\n",
      "   ----------- ---------------------------- 11.5/38.5 MB 1.1 MB/s eta 0:00:24\n",
      "   ------------ --------------------------- 11.6/38.5 MB 1.1 MB/s eta 0:00:24\n",
      "   ------------ --------------------------- 11.7/38.5 MB 1.1 MB/s eta 0:00:24\n",
      "   ------------ --------------------------- 11.7/38.5 MB 1.1 MB/s eta 0:00:24\n",
      "   ------------ --------------------------- 11.7/38.5 MB 1.1 MB/s eta 0:00:24\n",
      "   ------------ --------------------------- 11.8/38.5 MB 1.1 MB/s eta 0:00:24\n",
      "   ------------ --------------------------- 11.9/38.5 MB 1.1 MB/s eta 0:00:24\n",
      "   ------------ --------------------------- 11.9/38.5 MB 1.1 MB/s eta 0:00:24\n",
      "   ------------ --------------------------- 12.0/38.5 MB 1.1 MB/s eta 0:00:24\n",
      "   ------------ --------------------------- 12.0/38.5 MB 1.1 MB/s eta 0:00:24\n",
      "   ------------ --------------------------- 12.1/38.5 MB 1.1 MB/s eta 0:00:24\n",
      "   ------------ --------------------------- 12.1/38.5 MB 1.1 MB/s eta 0:00:24\n",
      "   ------------ --------------------------- 12.2/38.5 MB 1.1 MB/s eta 0:00:24\n",
      "   ------------ --------------------------- 12.2/38.5 MB 1.1 MB/s eta 0:00:24\n",
      "   ------------ --------------------------- 12.3/38.5 MB 1.1 MB/s eta 0:00:24\n",
      "   ------------ --------------------------- 12.3/38.5 MB 1.1 MB/s eta 0:00:24\n",
      "   ------------ --------------------------- 12.4/38.5 MB 1.1 MB/s eta 0:00:24\n",
      "   ------------ --------------------------- 12.4/38.5 MB 1.1 MB/s eta 0:00:23\n",
      "   ------------ --------------------------- 12.5/38.5 MB 1.1 MB/s eta 0:00:23\n",
      "   ------------- -------------------------- 12.6/38.5 MB 1.1 MB/s eta 0:00:23\n",
      "   ------------- -------------------------- 12.6/38.5 MB 1.1 MB/s eta 0:00:23\n",
      "   ------------- -------------------------- 12.7/38.5 MB 1.1 MB/s eta 0:00:23\n",
      "   ------------- -------------------------- 12.7/38.5 MB 1.1 MB/s eta 0:00:23\n",
      "   ------------- -------------------------- 12.8/38.5 MB 1.1 MB/s eta 0:00:23\n",
      "   ------------- -------------------------- 12.9/38.5 MB 1.1 MB/s eta 0:00:23\n",
      "   ------------- -------------------------- 12.9/38.5 MB 1.1 MB/s eta 0:00:23\n",
      "   ------------- -------------------------- 13.0/38.5 MB 1.1 MB/s eta 0:00:23\n",
      "   ------------- -------------------------- 13.0/38.5 MB 1.1 MB/s eta 0:00:23\n",
      "   ------------- -------------------------- 13.1/38.5 MB 1.1 MB/s eta 0:00:23\n",
      "   ------------- -------------------------- 13.2/38.5 MB 1.1 MB/s eta 0:00:23\n",
      "   ------------- -------------------------- 13.2/38.5 MB 1.1 MB/s eta 0:00:23\n",
      "   ------------- -------------------------- 13.3/38.5 MB 1.1 MB/s eta 0:00:23\n",
      "   ------------- -------------------------- 13.3/38.5 MB 1.1 MB/s eta 0:00:23\n",
      "   ------------- -------------------------- 13.4/38.5 MB 1.1 MB/s eta 0:00:23\n",
      "   ------------- -------------------------- 13.4/38.5 MB 1.1 MB/s eta 0:00:23\n",
      "   ------------- -------------------------- 13.5/38.5 MB 1.1 MB/s eta 0:00:23\n",
      "   -------------- ------------------------- 13.6/38.5 MB 1.1 MB/s eta 0:00:23\n",
      "   -------------- ------------------------- 13.6/38.5 MB 1.1 MB/s eta 0:00:22\n",
      "   -------------- ------------------------- 13.7/38.5 MB 1.1 MB/s eta 0:00:22\n",
      "   -------------- ------------------------- 13.7/38.5 MB 1.1 MB/s eta 0:00:22\n",
      "   -------------- ------------------------- 13.8/38.5 MB 1.1 MB/s eta 0:00:22\n",
      "   -------------- ------------------------- 13.8/38.5 MB 1.1 MB/s eta 0:00:22\n",
      "   -------------- ------------------------- 13.9/38.5 MB 1.1 MB/s eta 0:00:22\n",
      "   -------------- ------------------------- 13.9/38.5 MB 1.1 MB/s eta 0:00:22\n",
      "   -------------- ------------------------- 14.0/38.5 MB 1.1 MB/s eta 0:00:22\n",
      "   -------------- ------------------------- 14.1/38.5 MB 1.1 MB/s eta 0:00:22\n",
      "   -------------- ------------------------- 14.1/38.5 MB 1.1 MB/s eta 0:00:22\n",
      "   -------------- ------------------------- 14.2/38.5 MB 1.1 MB/s eta 0:00:22\n",
      "   -------------- ------------------------- 14.2/38.5 MB 1.1 MB/s eta 0:00:22\n",
      "   -------------- ------------------------- 14.3/38.5 MB 1.1 MB/s eta 0:00:22\n",
      "   -------------- ------------------------- 14.3/38.5 MB 1.1 MB/s eta 0:00:22\n",
      "   -------------- ------------------------- 14.4/38.5 MB 1.1 MB/s eta 0:00:22\n",
      "   --------------- ------------------------ 14.5/38.5 MB 1.1 MB/s eta 0:00:22\n",
      "   --------------- ------------------------ 14.5/38.5 MB 1.1 MB/s eta 0:00:22\n",
      "   --------------- ------------------------ 14.6/38.5 MB 1.1 MB/s eta 0:00:22\n",
      "   --------------- ------------------------ 14.6/38.5 MB 1.1 MB/s eta 0:00:22\n",
      "   --------------- ------------------------ 14.7/38.5 MB 1.1 MB/s eta 0:00:22\n",
      "   --------------- ------------------------ 14.8/38.5 MB 1.1 MB/s eta 0:00:21\n",
      "   --------------- ------------------------ 14.8/38.5 MB 1.1 MB/s eta 0:00:21\n",
      "   --------------- ------------------------ 14.8/38.5 MB 1.1 MB/s eta 0:00:21\n",
      "   --------------- ------------------------ 14.9/38.5 MB 1.1 MB/s eta 0:00:21\n",
      "   --------------- ------------------------ 15.0/38.5 MB 1.1 MB/s eta 0:00:21\n",
      "   --------------- ------------------------ 15.0/38.5 MB 1.1 MB/s eta 0:00:21\n",
      "   --------------- ------------------------ 15.1/38.5 MB 1.1 MB/s eta 0:00:21\n",
      "   --------------- ------------------------ 15.1/38.5 MB 1.1 MB/s eta 0:00:21\n",
      "   --------------- ------------------------ 15.2/38.5 MB 1.1 MB/s eta 0:00:21\n",
      "   --------------- ------------------------ 15.2/38.5 MB 1.1 MB/s eta 0:00:21\n",
      "   --------------- ------------------------ 15.3/38.5 MB 1.1 MB/s eta 0:00:21\n",
      "   --------------- ------------------------ 15.4/38.5 MB 1.1 MB/s eta 0:00:21\n",
      "   ---------------- ----------------------- 15.4/38.5 MB 1.1 MB/s eta 0:00:21\n",
      "   ---------------- ----------------------- 15.5/38.5 MB 1.1 MB/s eta 0:00:21\n",
      "   ---------------- ----------------------- 15.5/38.5 MB 1.1 MB/s eta 0:00:21\n",
      "   ---------------- ----------------------- 15.6/38.5 MB 1.1 MB/s eta 0:00:21\n",
      "   ---------------- ----------------------- 15.6/38.5 MB 1.1 MB/s eta 0:00:21\n",
      "   ---------------- ----------------------- 15.7/38.5 MB 1.1 MB/s eta 0:00:21\n",
      "   ---------------- ----------------------- 15.7/38.5 MB 1.1 MB/s eta 0:00:21\n",
      "   ---------------- ----------------------- 15.8/38.5 MB 1.1 MB/s eta 0:00:21\n",
      "   ---------------- ----------------------- 15.9/38.5 MB 1.1 MB/s eta 0:00:20\n",
      "   ---------------- ----------------------- 15.9/38.5 MB 1.1 MB/s eta 0:00:20\n",
      "   ---------------- ----------------------- 16.0/38.5 MB 1.1 MB/s eta 0:00:20\n",
      "   ---------------- ----------------------- 16.0/38.5 MB 1.1 MB/s eta 0:00:20\n",
      "   ---------------- ----------------------- 16.1/38.5 MB 1.1 MB/s eta 0:00:20\n",
      "   ---------------- ----------------------- 16.2/38.5 MB 1.1 MB/s eta 0:00:20\n",
      "   ---------------- ----------------------- 16.2/38.5 MB 1.1 MB/s eta 0:00:20\n",
      "   ---------------- ----------------------- 16.3/38.5 MB 1.1 MB/s eta 0:00:20\n",
      "   ---------------- ----------------------- 16.3/38.5 MB 1.1 MB/s eta 0:00:20\n",
      "   ---------------- ----------------------- 16.4/38.5 MB 1.1 MB/s eta 0:00:20\n",
      "   ----------------- ---------------------- 16.4/38.5 MB 1.1 MB/s eta 0:00:20\n",
      "   ----------------- ---------------------- 16.5/38.5 MB 1.1 MB/s eta 0:00:20\n",
      "   ----------------- ---------------------- 16.5/38.5 MB 1.1 MB/s eta 0:00:20\n",
      "   ----------------- ---------------------- 16.6/38.5 MB 1.1 MB/s eta 0:00:20\n",
      "   ----------------- ---------------------- 16.6/38.5 MB 1.1 MB/s eta 0:00:20\n",
      "   ----------------- ---------------------- 16.7/38.5 MB 1.1 MB/s eta 0:00:20\n",
      "   ----------------- ---------------------- 16.8/38.5 MB 1.1 MB/s eta 0:00:20\n",
      "   ----------------- ---------------------- 16.8/38.5 MB 1.1 MB/s eta 0:00:20\n",
      "   ----------------- ---------------------- 16.9/38.5 MB 1.1 MB/s eta 0:00:20\n",
      "   ----------------- ---------------------- 16.9/38.5 MB 1.1 MB/s eta 0:00:20\n",
      "   ----------------- ---------------------- 17.0/38.5 MB 1.1 MB/s eta 0:00:20\n",
      "   ----------------- ---------------------- 17.0/38.5 MB 1.1 MB/s eta 0:00:19\n",
      "   ----------------- ---------------------- 17.1/38.5 MB 1.1 MB/s eta 0:00:19\n",
      "   ----------------- ---------------------- 17.2/38.5 MB 1.1 MB/s eta 0:00:19\n",
      "   ----------------- ---------------------- 17.2/38.5 MB 1.1 MB/s eta 0:00:19\n",
      "   ----------------- ---------------------- 17.3/38.5 MB 1.1 MB/s eta 0:00:19\n",
      "   ----------------- ---------------------- 17.3/38.5 MB 1.1 MB/s eta 0:00:19\n",
      "   ------------------ --------------------- 17.4/38.5 MB 1.1 MB/s eta 0:00:19\n",
      "   ------------------ --------------------- 17.4/38.5 MB 1.1 MB/s eta 0:00:19\n",
      "   ------------------ --------------------- 17.5/38.5 MB 1.1 MB/s eta 0:00:19\n",
      "   ------------------ --------------------- 17.5/38.5 MB 1.1 MB/s eta 0:00:19\n",
      "   ------------------ --------------------- 17.6/38.5 MB 1.1 MB/s eta 0:00:19\n",
      "   ------------------ --------------------- 17.6/38.5 MB 1.1 MB/s eta 0:00:19\n",
      "   ------------------ --------------------- 17.7/38.5 MB 1.1 MB/s eta 0:00:19\n",
      "   ------------------ --------------------- 17.7/38.5 MB 1.1 MB/s eta 0:00:19\n",
      "   ------------------ --------------------- 17.8/38.5 MB 1.1 MB/s eta 0:00:19\n",
      "   ------------------ --------------------- 17.9/38.5 MB 1.1 MB/s eta 0:00:19\n",
      "   ------------------ --------------------- 17.9/38.5 MB 1.1 MB/s eta 0:00:19\n",
      "   ------------------ --------------------- 18.0/38.5 MB 1.1 MB/s eta 0:00:19\n",
      "   ------------------ --------------------- 18.0/38.5 MB 1.1 MB/s eta 0:00:19\n",
      "   ------------------ --------------------- 18.1/38.5 MB 1.1 MB/s eta 0:00:19\n",
      "   ------------------ --------------------- 18.1/38.5 MB 1.1 MB/s eta 0:00:18\n",
      "   ------------------ --------------------- 18.2/38.5 MB 1.1 MB/s eta 0:00:18\n",
      "   ------------------ --------------------- 18.3/38.5 MB 1.1 MB/s eta 0:00:18\n",
      "   ------------------- -------------------- 18.3/38.5 MB 1.1 MB/s eta 0:00:18\n",
      "   ------------------- -------------------- 18.4/38.5 MB 1.1 MB/s eta 0:00:18\n",
      "   ------------------- -------------------- 18.4/38.5 MB 1.1 MB/s eta 0:00:18\n",
      "   ------------------- -------------------- 18.5/38.5 MB 1.1 MB/s eta 0:00:18\n",
      "   ------------------- -------------------- 18.5/38.5 MB 1.1 MB/s eta 0:00:18\n",
      "   ------------------- -------------------- 18.6/38.5 MB 1.1 MB/s eta 0:00:18\n",
      "   ------------------- -------------------- 18.7/38.5 MB 1.1 MB/s eta 0:00:18\n",
      "   ------------------- -------------------- 18.7/38.5 MB 1.1 MB/s eta 0:00:18\n",
      "   ------------------- -------------------- 18.8/38.5 MB 1.1 MB/s eta 0:00:18\n",
      "   ------------------- -------------------- 18.8/38.5 MB 1.1 MB/s eta 0:00:18\n",
      "   ------------------- -------------------- 18.9/38.5 MB 1.1 MB/s eta 0:00:18\n",
      "   ------------------- -------------------- 19.0/38.5 MB 1.1 MB/s eta 0:00:18\n",
      "   ------------------- -------------------- 19.0/38.5 MB 1.1 MB/s eta 0:00:18\n",
      "   ------------------- -------------------- 19.1/38.5 MB 1.1 MB/s eta 0:00:18\n",
      "   ------------------- -------------------- 19.1/38.5 MB 1.1 MB/s eta 0:00:18\n",
      "   ------------------- -------------------- 19.1/38.5 MB 1.1 MB/s eta 0:00:17\n",
      "   ------------------- -------------------- 19.2/38.5 MB 1.1 MB/s eta 0:00:17\n",
      "   -------------------- ------------------- 19.3/38.5 MB 1.1 MB/s eta 0:00:17\n",
      "   -------------------- ------------------- 19.3/38.5 MB 1.1 MB/s eta 0:00:17\n",
      "   -------------------- ------------------- 19.4/38.5 MB 1.1 MB/s eta 0:00:17\n",
      "   -------------------- ------------------- 19.5/38.5 MB 1.1 MB/s eta 0:00:17\n",
      "   -------------------- ------------------- 19.5/38.5 MB 1.1 MB/s eta 0:00:17\n",
      "   -------------------- ------------------- 19.6/38.5 MB 1.1 MB/s eta 0:00:17\n",
      "   -------------------- ------------------- 19.6/38.5 MB 1.1 MB/s eta 0:00:17\n",
      "   -------------------- ------------------- 19.7/38.5 MB 1.1 MB/s eta 0:00:17\n",
      "   -------------------- ------------------- 19.7/38.5 MB 1.1 MB/s eta 0:00:17\n",
      "   -------------------- ------------------- 19.8/38.5 MB 1.1 MB/s eta 0:00:17\n",
      "   -------------------- ------------------- 19.8/38.5 MB 1.1 MB/s eta 0:00:17\n",
      "   -------------------- ------------------- 19.9/38.5 MB 1.1 MB/s eta 0:00:17\n",
      "   -------------------- ------------------- 20.0/38.5 MB 1.1 MB/s eta 0:00:17\n",
      "   -------------------- ------------------- 20.0/38.5 MB 1.1 MB/s eta 0:00:17\n",
      "   -------------------- ------------------- 20.1/38.5 MB 1.1 MB/s eta 0:00:17\n",
      "   -------------------- ------------------- 20.1/38.5 MB 1.1 MB/s eta 0:00:17\n",
      "   -------------------- ------------------- 20.2/38.5 MB 1.1 MB/s eta 0:00:17\n",
      "   --------------------- ------------------ 20.2/38.5 MB 1.1 MB/s eta 0:00:17\n",
      "   --------------------- ------------------ 20.3/38.5 MB 1.1 MB/s eta 0:00:16\n",
      "   --------------------- ------------------ 20.3/38.5 MB 1.1 MB/s eta 0:00:16\n",
      "   --------------------- ------------------ 20.4/38.5 MB 1.1 MB/s eta 0:00:16\n",
      "   --------------------- ------------------ 20.4/38.5 MB 1.1 MB/s eta 0:00:16\n",
      "   --------------------- ------------------ 20.5/38.5 MB 1.1 MB/s eta 0:00:16\n",
      "   --------------------- ------------------ 20.6/38.5 MB 1.1 MB/s eta 0:00:16\n",
      "   --------------------- ------------------ 20.6/38.5 MB 1.1 MB/s eta 0:00:16\n",
      "   --------------------- ------------------ 20.7/38.5 MB 1.1 MB/s eta 0:00:16\n",
      "   --------------------- ------------------ 20.7/38.5 MB 1.1 MB/s eta 0:00:16\n",
      "   --------------------- ------------------ 20.8/38.5 MB 1.1 MB/s eta 0:00:16\n",
      "   --------------------- ------------------ 20.8/38.5 MB 1.1 MB/s eta 0:00:16\n",
      "   --------------------- ------------------ 20.9/38.5 MB 1.1 MB/s eta 0:00:16\n",
      "   --------------------- ------------------ 21.0/38.5 MB 1.1 MB/s eta 0:00:16\n",
      "   --------------------- ------------------ 21.0/38.5 MB 1.2 MB/s eta 0:00:16\n",
      "   --------------------- ------------------ 21.1/38.5 MB 1.2 MB/s eta 0:00:16\n",
      "   --------------------- ------------------ 21.1/38.5 MB 1.2 MB/s eta 0:00:16\n",
      "   --------------------- ------------------ 21.2/38.5 MB 1.2 MB/s eta 0:00:16\n",
      "   ---------------------- ----------------- 21.2/38.5 MB 1.2 MB/s eta 0:00:15\n",
      "   ---------------------- ----------------- 21.3/38.5 MB 1.2 MB/s eta 0:00:15\n",
      "   ---------------------- ----------------- 21.4/38.5 MB 1.2 MB/s eta 0:00:15\n",
      "   ---------------------- ----------------- 21.4/38.5 MB 1.2 MB/s eta 0:00:15\n",
      "   ---------------------- ----------------- 21.5/38.5 MB 1.2 MB/s eta 0:00:15\n",
      "   ---------------------- ----------------- 21.5/38.5 MB 1.2 MB/s eta 0:00:15\n",
      "   ---------------------- ----------------- 21.6/38.5 MB 1.2 MB/s eta 0:00:15\n",
      "   ---------------------- ----------------- 21.6/38.5 MB 1.2 MB/s eta 0:00:15\n",
      "   ---------------------- ----------------- 21.7/38.5 MB 1.2 MB/s eta 0:00:15\n",
      "   ---------------------- ----------------- 21.7/38.5 MB 1.2 MB/s eta 0:00:15\n",
      "   ---------------------- ----------------- 21.8/38.5 MB 1.2 MB/s eta 0:00:15\n",
      "   ---------------------- ----------------- 21.9/38.5 MB 1.2 MB/s eta 0:00:15\n",
      "   ---------------------- ----------------- 21.9/38.5 MB 1.2 MB/s eta 0:00:15\n",
      "   ---------------------- ----------------- 21.9/38.5 MB 1.2 MB/s eta 0:00:15\n",
      "   ---------------------- ----------------- 22.0/38.5 MB 1.2 MB/s eta 0:00:15\n",
      "   ---------------------- ----------------- 22.0/38.5 MB 1.2 MB/s eta 0:00:15\n",
      "   ---------------------- ----------------- 22.1/38.5 MB 1.2 MB/s eta 0:00:14\n",
      "   ----------------------- ---------------- 22.2/38.5 MB 1.2 MB/s eta 0:00:14\n",
      "   ----------------------- ---------------- 22.2/38.5 MB 1.2 MB/s eta 0:00:14\n",
      "   ----------------------- ---------------- 22.3/38.5 MB 1.2 MB/s eta 0:00:14\n",
      "   ----------------------- ---------------- 22.3/38.5 MB 1.2 MB/s eta 0:00:14\n",
      "   ----------------------- ---------------- 22.4/38.5 MB 1.2 MB/s eta 0:00:14\n",
      "   ----------------------- ---------------- 22.5/38.5 MB 1.2 MB/s eta 0:00:14\n",
      "   ----------------------- ---------------- 22.5/38.5 MB 1.2 MB/s eta 0:00:14\n",
      "   ----------------------- ---------------- 22.6/38.5 MB 1.2 MB/s eta 0:00:14\n",
      "   ----------------------- ---------------- 22.6/38.5 MB 1.2 MB/s eta 0:00:14\n",
      "   ----------------------- ---------------- 22.7/38.5 MB 1.2 MB/s eta 0:00:14\n",
      "   ----------------------- ---------------- 22.8/38.5 MB 1.2 MB/s eta 0:00:14\n",
      "   ----------------------- ---------------- 22.8/38.5 MB 1.2 MB/s eta 0:00:14\n",
      "   ----------------------- ---------------- 22.9/38.5 MB 1.2 MB/s eta 0:00:14\n",
      "   ----------------------- ---------------- 22.9/38.5 MB 1.2 MB/s eta 0:00:14\n",
      "   ----------------------- ---------------- 23.0/38.5 MB 1.2 MB/s eta 0:00:14\n",
      "   ----------------------- ---------------- 23.0/38.5 MB 1.2 MB/s eta 0:00:14\n",
      "   ----------------------- ---------------- 23.1/38.5 MB 1.2 MB/s eta 0:00:14\n",
      "   ------------------------ --------------- 23.2/38.5 MB 1.2 MB/s eta 0:00:14\n",
      "   ------------------------ --------------- 23.2/38.5 MB 1.2 MB/s eta 0:00:14\n",
      "   ------------------------ --------------- 23.3/38.5 MB 1.2 MB/s eta 0:00:14\n",
      "   ------------------------ --------------- 23.3/38.5 MB 1.2 MB/s eta 0:00:13\n",
      "   ------------------------ --------------- 23.4/38.5 MB 1.2 MB/s eta 0:00:13\n",
      "   ------------------------ --------------- 23.4/38.5 MB 1.2 MB/s eta 0:00:13\n",
      "   ------------------------ --------------- 23.5/38.5 MB 1.2 MB/s eta 0:00:13\n",
      "   ------------------------ --------------- 23.6/38.5 MB 1.2 MB/s eta 0:00:13\n",
      "   ------------------------ --------------- 23.6/38.5 MB 1.2 MB/s eta 0:00:13\n",
      "   ------------------------ --------------- 23.7/38.5 MB 1.2 MB/s eta 0:00:13\n",
      "   ------------------------ --------------- 23.7/38.5 MB 1.2 MB/s eta 0:00:13\n",
      "   ------------------------ --------------- 23.8/38.5 MB 1.2 MB/s eta 0:00:13\n",
      "   ------------------------ --------------- 23.8/38.5 MB 1.2 MB/s eta 0:00:13\n",
      "   ------------------------ --------------- 23.9/38.5 MB 1.2 MB/s eta 0:00:13\n",
      "   ------------------------ --------------- 23.9/38.5 MB 1.2 MB/s eta 0:00:13\n",
      "   ------------------------ --------------- 24.0/38.5 MB 1.2 MB/s eta 0:00:13\n",
      "   ------------------------ --------------- 24.1/38.5 MB 1.2 MB/s eta 0:00:13\n",
      "   ------------------------- -------------- 24.1/38.5 MB 1.2 MB/s eta 0:00:13\n",
      "   ------------------------- -------------- 24.2/38.5 MB 1.2 MB/s eta 0:00:13\n",
      "   ------------------------- -------------- 24.2/38.5 MB 1.2 MB/s eta 0:00:13\n",
      "   ------------------------- -------------- 24.3/38.5 MB 1.2 MB/s eta 0:00:13\n",
      "   ------------------------- -------------- 24.4/38.5 MB 1.2 MB/s eta 0:00:13\n",
      "   ------------------------- -------------- 24.4/38.5 MB 1.2 MB/s eta 0:00:13\n",
      "   ------------------------- -------------- 24.5/38.5 MB 1.2 MB/s eta 0:00:12\n",
      "   ------------------------- -------------- 24.6/38.5 MB 1.2 MB/s eta 0:00:12\n",
      "   ------------------------- -------------- 24.6/38.5 MB 1.2 MB/s eta 0:00:12\n",
      "   ------------------------- -------------- 24.7/38.5 MB 1.2 MB/s eta 0:00:12\n",
      "   ------------------------- -------------- 24.7/38.5 MB 1.2 MB/s eta 0:00:12\n",
      "   ------------------------- -------------- 24.8/38.5 MB 1.2 MB/s eta 0:00:12\n",
      "   ------------------------- -------------- 24.9/38.5 MB 1.2 MB/s eta 0:00:12\n",
      "   ------------------------- -------------- 24.9/38.5 MB 1.2 MB/s eta 0:00:12\n",
      "   ------------------------- -------------- 25.0/38.5 MB 1.2 MB/s eta 0:00:12\n",
      "   ------------------------- -------------- 25.0/38.5 MB 1.2 MB/s eta 0:00:12\n",
      "   -------------------------- ------------- 25.1/38.5 MB 1.2 MB/s eta 0:00:12\n",
      "   -------------------------- ------------- 25.1/38.5 MB 1.2 MB/s eta 0:00:12\n",
      "   -------------------------- ------------- 25.2/38.5 MB 1.2 MB/s eta 0:00:12\n",
      "   -------------------------- ------------- 25.3/38.5 MB 1.2 MB/s eta 0:00:12\n",
      "   -------------------------- ------------- 25.3/38.5 MB 1.2 MB/s eta 0:00:12\n",
      "   -------------------------- ------------- 25.4/38.5 MB 1.2 MB/s eta 0:00:12\n",
      "   -------------------------- ------------- 25.4/38.5 MB 1.2 MB/s eta 0:00:12\n",
      "   -------------------------- ------------- 25.5/38.5 MB 1.2 MB/s eta 0:00:12\n",
      "   -------------------------- ------------- 25.6/38.5 MB 1.2 MB/s eta 0:00:12\n",
      "   -------------------------- ------------- 25.6/38.5 MB 1.2 MB/s eta 0:00:11\n",
      "   -------------------------- ------------- 25.7/38.5 MB 1.2 MB/s eta 0:00:11\n",
      "   -------------------------- ------------- 25.7/38.5 MB 1.2 MB/s eta 0:00:11\n",
      "   -------------------------- ------------- 25.8/38.5 MB 1.2 MB/s eta 0:00:11\n",
      "   -------------------------- ------------- 25.8/38.5 MB 1.2 MB/s eta 0:00:11\n",
      "   -------------------------- ------------- 25.9/38.5 MB 1.2 MB/s eta 0:00:11\n",
      "   -------------------------- ------------- 25.9/38.5 MB 1.2 MB/s eta 0:00:11\n",
      "   --------------------------- ------------ 26.0/38.5 MB 1.2 MB/s eta 0:00:11\n",
      "   --------------------------- ------------ 26.1/38.5 MB 1.2 MB/s eta 0:00:11\n",
      "   --------------------------- ------------ 26.1/38.5 MB 1.2 MB/s eta 0:00:11\n",
      "   --------------------------- ------------ 26.2/38.5 MB 1.2 MB/s eta 0:00:11\n",
      "   --------------------------- ------------ 26.2/38.5 MB 1.2 MB/s eta 0:00:11\n",
      "   --------------------------- ------------ 26.3/38.5 MB 1.2 MB/s eta 0:00:11\n",
      "   --------------------------- ------------ 26.4/38.5 MB 1.2 MB/s eta 0:00:11\n",
      "   --------------------------- ------------ 26.4/38.5 MB 1.2 MB/s eta 0:00:11\n",
      "   --------------------------- ------------ 26.4/38.5 MB 1.2 MB/s eta 0:00:11\n",
      "   --------------------------- ------------ 26.4/38.5 MB 1.2 MB/s eta 0:00:11\n",
      "   --------------------------- ------------ 26.5/38.5 MB 1.2 MB/s eta 0:00:11\n",
      "   --------------------------- ------------ 26.5/38.5 MB 1.2 MB/s eta 0:00:11\n",
      "   --------------------------- ------------ 26.6/38.5 MB 1.2 MB/s eta 0:00:11\n",
      "   --------------------------- ------------ 26.6/38.5 MB 1.2 MB/s eta 0:00:11\n",
      "   --------------------------- ------------ 26.7/38.5 MB 1.2 MB/s eta 0:00:11\n",
      "   --------------------------- ------------ 26.7/38.5 MB 1.2 MB/s eta 0:00:11\n",
      "   --------------------------- ------------ 26.8/38.5 MB 1.2 MB/s eta 0:00:11\n",
      "   --------------------------- ------------ 26.9/38.5 MB 1.2 MB/s eta 0:00:10\n",
      "   --------------------------- ------------ 26.9/38.5 MB 1.2 MB/s eta 0:00:10\n",
      "   --------------------------- ------------ 27.0/38.5 MB 1.2 MB/s eta 0:00:10\n",
      "   ---------------------------- ----------- 27.0/38.5 MB 1.2 MB/s eta 0:00:10\n",
      "   ---------------------------- ----------- 27.1/38.5 MB 1.2 MB/s eta 0:00:10\n",
      "   ---------------------------- ----------- 27.1/38.5 MB 1.2 MB/s eta 0:00:10\n",
      "   ---------------------------- ----------- 27.2/38.5 MB 1.2 MB/s eta 0:00:10\n",
      "   ---------------------------- ----------- 27.2/38.5 MB 1.2 MB/s eta 0:00:10\n",
      "   ---------------------------- ----------- 27.3/38.5 MB 1.2 MB/s eta 0:00:10\n",
      "   ---------------------------- ----------- 27.3/38.5 MB 1.2 MB/s eta 0:00:10\n",
      "   ---------------------------- ----------- 27.4/38.5 MB 1.2 MB/s eta 0:00:10\n",
      "   ---------------------------- ----------- 27.5/38.5 MB 1.2 MB/s eta 0:00:10\n",
      "   ---------------------------- ----------- 27.5/38.5 MB 1.2 MB/s eta 0:00:10\n",
      "   ---------------------------- ----------- 27.6/38.5 MB 1.2 MB/s eta 0:00:10\n",
      "   ---------------------------- ----------- 27.6/38.5 MB 1.2 MB/s eta 0:00:10\n",
      "   ---------------------------- ----------- 27.7/38.5 MB 1.2 MB/s eta 0:00:10\n",
      "   ---------------------------- ----------- 27.7/38.5 MB 1.2 MB/s eta 0:00:10\n",
      "   ---------------------------- ----------- 27.8/38.5 MB 1.2 MB/s eta 0:00:10\n",
      "   ---------------------------- ----------- 27.9/38.5 MB 1.2 MB/s eta 0:00:10\n",
      "   ---------------------------- ----------- 27.9/38.5 MB 1.2 MB/s eta 0:00:10\n",
      "   ----------------------------- ---------- 28.0/38.5 MB 1.2 MB/s eta 0:00:10\n",
      "   ----------------------------- ---------- 28.0/38.5 MB 1.2 MB/s eta 0:00:09\n",
      "   ----------------------------- ---------- 28.1/38.5 MB 1.2 MB/s eta 0:00:09\n",
      "   ----------------------------- ---------- 28.1/38.5 MB 1.2 MB/s eta 0:00:09\n",
      "   ----------------------------- ---------- 28.2/38.5 MB 1.2 MB/s eta 0:00:09\n",
      "   ----------------------------- ---------- 28.2/38.5 MB 1.2 MB/s eta 0:00:09\n",
      "   ----------------------------- ---------- 28.3/38.5 MB 1.2 MB/s eta 0:00:09\n",
      "   ----------------------------- ---------- 28.4/38.5 MB 1.2 MB/s eta 0:00:09\n",
      "   ----------------------------- ---------- 28.4/38.5 MB 1.2 MB/s eta 0:00:09\n",
      "   ----------------------------- ---------- 28.5/38.5 MB 1.2 MB/s eta 0:00:09\n",
      "   ----------------------------- ---------- 28.5/38.5 MB 1.2 MB/s eta 0:00:09\n",
      "   ----------------------------- ---------- 28.6/38.5 MB 1.2 MB/s eta 0:00:09\n",
      "   ----------------------------- ---------- 28.7/38.5 MB 1.2 MB/s eta 0:00:09\n",
      "   ----------------------------- ---------- 28.7/38.5 MB 1.2 MB/s eta 0:00:09\n",
      "   ----------------------------- ---------- 28.8/38.5 MB 1.2 MB/s eta 0:00:09\n",
      "   ----------------------------- ---------- 28.8/38.5 MB 1.2 MB/s eta 0:00:09\n",
      "   ----------------------------- ---------- 28.9/38.5 MB 1.2 MB/s eta 0:00:09\n",
      "   ------------------------------ --------- 28.9/38.5 MB 1.2 MB/s eta 0:00:09\n",
      "   ------------------------------ --------- 29.0/38.5 MB 1.2 MB/s eta 0:00:09\n",
      "   ------------------------------ --------- 29.1/38.5 MB 1.2 MB/s eta 0:00:09\n",
      "   ------------------------------ --------- 29.1/38.5 MB 1.2 MB/s eta 0:00:09\n",
      "   ------------------------------ --------- 29.2/38.5 MB 1.2 MB/s eta 0:00:09\n",
      "   ------------------------------ --------- 29.2/38.5 MB 1.2 MB/s eta 0:00:08\n",
      "   ------------------------------ --------- 29.3/38.5 MB 1.2 MB/s eta 0:00:08\n",
      "   ------------------------------ --------- 29.4/38.5 MB 1.2 MB/s eta 0:00:08\n",
      "   ------------------------------ --------- 29.4/38.5 MB 1.2 MB/s eta 0:00:08\n",
      "   ------------------------------ --------- 29.5/38.5 MB 1.2 MB/s eta 0:00:08\n",
      "   ------------------------------ --------- 29.5/38.5 MB 1.2 MB/s eta 0:00:08\n",
      "   ------------------------------ --------- 29.6/38.5 MB 1.2 MB/s eta 0:00:08\n",
      "   ------------------------------ --------- 29.6/38.5 MB 1.2 MB/s eta 0:00:08\n",
      "   ------------------------------ --------- 29.7/38.5 MB 1.2 MB/s eta 0:00:08\n",
      "   ------------------------------ --------- 29.7/38.5 MB 1.2 MB/s eta 0:00:08\n",
      "   ------------------------------ --------- 29.8/38.5 MB 1.2 MB/s eta 0:00:08\n",
      "   ------------------------------ --------- 29.8/38.5 MB 1.2 MB/s eta 0:00:08\n",
      "   ------------------------------- -------- 29.9/38.5 MB 1.2 MB/s eta 0:00:08\n",
      "   ------------------------------- -------- 30.0/38.5 MB 1.2 MB/s eta 0:00:08\n",
      "   ------------------------------- -------- 30.0/38.5 MB 1.2 MB/s eta 0:00:08\n",
      "   ------------------------------- -------- 30.1/38.5 MB 1.2 MB/s eta 0:00:08\n",
      "   ------------------------------- -------- 30.1/38.5 MB 1.2 MB/s eta 0:00:08\n",
      "   ------------------------------- -------- 30.2/38.5 MB 1.2 MB/s eta 0:00:08\n",
      "   ------------------------------- -------- 30.2/38.5 MB 1.2 MB/s eta 0:00:08\n",
      "   ------------------------------- -------- 30.3/38.5 MB 1.2 MB/s eta 0:00:08\n",
      "   ------------------------------- -------- 30.3/38.5 MB 1.2 MB/s eta 0:00:08\n",
      "   ------------------------------- -------- 30.4/38.5 MB 1.2 MB/s eta 0:00:07\n",
      "   ------------------------------- -------- 30.4/38.5 MB 1.2 MB/s eta 0:00:07\n",
      "   ------------------------------- -------- 30.5/38.5 MB 1.2 MB/s eta 0:00:07\n",
      "   ------------------------------- -------- 30.6/38.5 MB 1.2 MB/s eta 0:00:07\n",
      "   ------------------------------- -------- 30.6/38.5 MB 1.2 MB/s eta 0:00:07\n",
      "   ------------------------------- -------- 30.7/38.5 MB 1.2 MB/s eta 0:00:07\n",
      "   ------------------------------- -------- 30.7/38.5 MB 1.2 MB/s eta 0:00:07\n",
      "   ------------------------------- -------- 30.8/38.5 MB 1.2 MB/s eta 0:00:07\n",
      "   ------------------------------- -------- 30.8/38.5 MB 1.2 MB/s eta 0:00:07\n",
      "   -------------------------------- ------- 30.9/38.5 MB 1.2 MB/s eta 0:00:07\n",
      "   -------------------------------- ------- 30.9/38.5 MB 1.2 MB/s eta 0:00:07\n",
      "   -------------------------------- ------- 31.0/38.5 MB 1.2 MB/s eta 0:00:07\n",
      "   -------------------------------- ------- 31.0/38.5 MB 1.2 MB/s eta 0:00:07\n",
      "   -------------------------------- ------- 31.1/38.5 MB 1.2 MB/s eta 0:00:07\n",
      "   -------------------------------- ------- 31.1/38.5 MB 1.2 MB/s eta 0:00:07\n",
      "   -------------------------------- ------- 31.2/38.5 MB 1.2 MB/s eta 0:00:07\n",
      "   -------------------------------- ------- 31.2/38.5 MB 1.2 MB/s eta 0:00:07\n",
      "   -------------------------------- ------- 31.3/38.5 MB 1.2 MB/s eta 0:00:07\n",
      "   -------------------------------- ------- 31.3/38.5 MB 1.2 MB/s eta 0:00:07\n",
      "   -------------------------------- ------- 31.4/38.5 MB 1.2 MB/s eta 0:00:07\n",
      "   -------------------------------- ------- 31.4/38.5 MB 1.2 MB/s eta 0:00:07\n",
      "   -------------------------------- ------- 31.5/38.5 MB 1.2 MB/s eta 0:00:07\n",
      "   -------------------------------- ------- 31.5/38.5 MB 1.2 MB/s eta 0:00:06\n",
      "   -------------------------------- ------- 31.6/38.5 MB 1.2 MB/s eta 0:00:06\n",
      "   -------------------------------- ------- 31.7/38.5 MB 1.2 MB/s eta 0:00:06\n",
      "   -------------------------------- ------- 31.7/38.5 MB 1.2 MB/s eta 0:00:06\n",
      "   -------------------------------- ------- 31.8/38.5 MB 1.2 MB/s eta 0:00:06\n",
      "   --------------------------------- ------ 31.8/38.5 MB 1.2 MB/s eta 0:00:06\n",
      "   --------------------------------- ------ 31.9/38.5 MB 1.2 MB/s eta 0:00:06\n",
      "   --------------------------------- ------ 32.0/38.5 MB 1.2 MB/s eta 0:00:06\n",
      "   --------------------------------- ------ 32.0/38.5 MB 1.2 MB/s eta 0:00:06\n",
      "   --------------------------------- ------ 32.1/38.5 MB 1.2 MB/s eta 0:00:06\n",
      "   --------------------------------- ------ 32.1/38.5 MB 1.2 MB/s eta 0:00:06\n",
      "   --------------------------------- ------ 32.2/38.5 MB 1.2 MB/s eta 0:00:06\n",
      "   --------------------------------- ------ 32.2/38.5 MB 1.2 MB/s eta 0:00:06\n",
      "   --------------------------------- ------ 32.3/38.5 MB 1.2 MB/s eta 0:00:06\n",
      "   --------------------------------- ------ 32.3/38.5 MB 1.2 MB/s eta 0:00:06\n",
      "   --------------------------------- ------ 32.4/38.5 MB 1.2 MB/s eta 0:00:06\n",
      "   --------------------------------- ------ 32.5/38.5 MB 1.2 MB/s eta 0:00:06\n",
      "   --------------------------------- ------ 32.5/38.5 MB 1.2 MB/s eta 0:00:06\n",
      "   --------------------------------- ------ 32.6/38.5 MB 1.2 MB/s eta 0:00:06\n",
      "   --------------------------------- ------ 32.6/38.5 MB 1.2 MB/s eta 0:00:06\n",
      "   --------------------------------- ------ 32.7/38.5 MB 1.2 MB/s eta 0:00:06\n",
      "   --------------------------------- ------ 32.7/38.5 MB 1.2 MB/s eta 0:00:05\n",
      "   ---------------------------------- ----- 32.8/38.5 MB 1.2 MB/s eta 0:00:05\n",
      "   ---------------------------------- ----- 32.8/38.5 MB 1.2 MB/s eta 0:00:05\n",
      "   ---------------------------------- ----- 32.9/38.5 MB 1.2 MB/s eta 0:00:05\n",
      "   ---------------------------------- ----- 33.0/38.5 MB 1.2 MB/s eta 0:00:05\n",
      "   ---------------------------------- ----- 33.0/38.5 MB 1.2 MB/s eta 0:00:05\n",
      "   ---------------------------------- ----- 33.1/38.5 MB 1.2 MB/s eta 0:00:05\n",
      "   ---------------------------------- ----- 33.1/38.5 MB 1.2 MB/s eta 0:00:05\n",
      "   ---------------------------------- ----- 33.2/38.5 MB 1.2 MB/s eta 0:00:05\n",
      "   ---------------------------------- ----- 33.2/38.5 MB 1.2 MB/s eta 0:00:05\n",
      "   ---------------------------------- ----- 33.3/38.5 MB 1.2 MB/s eta 0:00:05\n",
      "   ---------------------------------- ----- 33.3/38.5 MB 1.2 MB/s eta 0:00:05\n",
      "   ---------------------------------- ----- 33.4/38.5 MB 1.2 MB/s eta 0:00:05\n",
      "   ---------------------------------- ----- 33.5/38.5 MB 1.2 MB/s eta 0:00:05\n",
      "   ---------------------------------- ----- 33.5/38.5 MB 1.2 MB/s eta 0:00:05\n",
      "   ---------------------------------- ----- 33.6/38.5 MB 1.2 MB/s eta 0:00:05\n",
      "   ---------------------------------- ----- 33.6/38.5 MB 1.2 MB/s eta 0:00:05\n",
      "   ---------------------------------- ----- 33.7/38.5 MB 1.2 MB/s eta 0:00:05\n",
      "   ----------------------------------- ---- 33.8/38.5 MB 1.2 MB/s eta 0:00:05\n",
      "   ----------------------------------- ---- 33.8/38.5 MB 1.2 MB/s eta 0:00:05\n",
      "   ----------------------------------- ---- 33.9/38.5 MB 1.2 MB/s eta 0:00:04\n",
      "   ----------------------------------- ---- 33.9/38.5 MB 1.2 MB/s eta 0:00:04\n",
      "   ----------------------------------- ---- 34.0/38.5 MB 1.2 MB/s eta 0:00:04\n",
      "   ----------------------------------- ---- 34.0/38.5 MB 1.2 MB/s eta 0:00:04\n",
      "   ----------------------------------- ---- 34.1/38.5 MB 1.2 MB/s eta 0:00:04\n",
      "   ----------------------------------- ---- 34.2/38.5 MB 1.2 MB/s eta 0:00:04\n",
      "   ----------------------------------- ---- 34.2/38.5 MB 1.2 MB/s eta 0:00:04\n",
      "   ----------------------------------- ---- 34.3/38.5 MB 1.2 MB/s eta 0:00:04\n",
      "   ----------------------------------- ---- 34.3/38.5 MB 1.2 MB/s eta 0:00:04\n",
      "   ----------------------------------- ---- 34.4/38.5 MB 1.2 MB/s eta 0:00:04\n",
      "   ----------------------------------- ---- 34.4/38.5 MB 1.2 MB/s eta 0:00:04\n",
      "   ----------------------------------- ---- 34.5/38.5 MB 1.2 MB/s eta 0:00:04\n",
      "   ----------------------------------- ---- 34.5/38.5 MB 1.2 MB/s eta 0:00:04\n",
      "   ----------------------------------- ---- 34.6/38.5 MB 1.2 MB/s eta 0:00:04\n",
      "   ----------------------------------- ---- 34.7/38.5 MB 1.2 MB/s eta 0:00:04\n",
      "   ------------------------------------ --- 34.7/38.5 MB 1.2 MB/s eta 0:00:04\n",
      "   ------------------------------------ --- 34.8/38.5 MB 1.2 MB/s eta 0:00:04\n",
      "   ------------------------------------ --- 34.8/38.5 MB 1.2 MB/s eta 0:00:04\n",
      "   ------------------------------------ --- 34.9/38.5 MB 1.2 MB/s eta 0:00:04\n",
      "   ------------------------------------ --- 35.0/38.5 MB 1.2 MB/s eta 0:00:04\n",
      "   ------------------------------------ --- 35.0/38.5 MB 1.2 MB/s eta 0:00:04\n",
      "   ------------------------------------ --- 35.1/38.5 MB 1.2 MB/s eta 0:00:03\n",
      "   ------------------------------------ --- 35.1/38.5 MB 1.2 MB/s eta 0:00:03\n",
      "   ------------------------------------ --- 35.2/38.5 MB 1.2 MB/s eta 0:00:03\n",
      "   ------------------------------------ --- 35.2/38.5 MB 1.2 MB/s eta 0:00:03\n",
      "   ------------------------------------ --- 35.3/38.5 MB 1.2 MB/s eta 0:00:03\n",
      "   ------------------------------------ --- 35.3/38.5 MB 1.2 MB/s eta 0:00:03\n",
      "   ------------------------------------ --- 35.4/38.5 MB 1.2 MB/s eta 0:00:03\n",
      "   ------------------------------------ --- 35.5/38.5 MB 1.2 MB/s eta 0:00:03\n",
      "   ------------------------------------ --- 35.5/38.5 MB 1.2 MB/s eta 0:00:03\n",
      "   ------------------------------------ --- 35.6/38.5 MB 1.2 MB/s eta 0:00:03\n",
      "   ------------------------------------ --- 35.6/38.5 MB 1.2 MB/s eta 0:00:03\n",
      "   ------------------------------------- -- 35.7/38.5 MB 1.2 MB/s eta 0:00:03\n",
      "   ------------------------------------- -- 35.7/38.5 MB 1.2 MB/s eta 0:00:03\n",
      "   ------------------------------------- -- 35.8/38.5 MB 1.2 MB/s eta 0:00:03\n",
      "   ------------------------------------- -- 35.9/38.5 MB 1.2 MB/s eta 0:00:03\n",
      "   ------------------------------------- -- 35.9/38.5 MB 1.2 MB/s eta 0:00:03\n",
      "   ------------------------------------- -- 36.0/38.5 MB 1.2 MB/s eta 0:00:03\n",
      "   ------------------------------------- -- 36.0/38.5 MB 1.2 MB/s eta 0:00:03\n",
      "   ------------------------------------- -- 36.1/38.5 MB 1.2 MB/s eta 0:00:03\n",
      "   ------------------------------------- -- 36.2/38.5 MB 1.2 MB/s eta 0:00:03\n",
      "   ------------------------------------- -- 36.2/38.5 MB 1.2 MB/s eta 0:00:02\n",
      "   ------------------------------------- -- 36.3/38.5 MB 1.2 MB/s eta 0:00:02\n",
      "   ------------------------------------- -- 36.3/38.5 MB 1.2 MB/s eta 0:00:02\n",
      "   ------------------------------------- -- 36.4/38.5 MB 1.2 MB/s eta 0:00:02\n",
      "   ------------------------------------- -- 36.4/38.5 MB 1.2 MB/s eta 0:00:02\n",
      "   ------------------------------------- -- 36.5/38.5 MB 1.2 MB/s eta 0:00:02\n",
      "   ------------------------------------- -- 36.5/38.5 MB 1.2 MB/s eta 0:00:02\n",
      "   ------------------------------------- -- 36.6/38.5 MB 1.2 MB/s eta 0:00:02\n",
      "   -------------------------------------- - 36.6/38.5 MB 1.2 MB/s eta 0:00:02\n",
      "   -------------------------------------- - 36.7/38.5 MB 1.2 MB/s eta 0:00:02\n",
      "   -------------------------------------- - 36.8/38.5 MB 1.2 MB/s eta 0:00:02\n",
      "   -------------------------------------- - 36.8/38.5 MB 1.2 MB/s eta 0:00:02\n",
      "   -------------------------------------- - 36.9/38.5 MB 1.2 MB/s eta 0:00:02\n",
      "   -------------------------------------- - 36.9/38.5 MB 1.2 MB/s eta 0:00:02\n",
      "   -------------------------------------- - 37.0/38.5 MB 1.2 MB/s eta 0:00:02\n",
      "   -------------------------------------- - 37.0/38.5 MB 1.2 MB/s eta 0:00:02\n",
      "   -------------------------------------- - 37.1/38.5 MB 1.2 MB/s eta 0:00:02\n",
      "   -------------------------------------- - 37.1/38.5 MB 1.2 MB/s eta 0:00:02\n",
      "   -------------------------------------- - 37.2/38.5 MB 1.2 MB/s eta 0:00:02\n",
      "   -------------------------------------- - 37.2/38.5 MB 1.2 MB/s eta 0:00:02\n",
      "   -------------------------------------- - 37.2/38.5 MB 1.2 MB/s eta 0:00:02\n",
      "   -------------------------------------- - 37.3/38.5 MB 1.2 MB/s eta 0:00:02\n",
      "   -------------------------------------- - 37.4/38.5 MB 1.2 MB/s eta 0:00:01\n",
      "   -------------------------------------- - 37.4/38.5 MB 1.2 MB/s eta 0:00:01\n",
      "   -------------------------------------- - 37.5/38.5 MB 1.2 MB/s eta 0:00:01\n",
      "   -------------------------------------- - 37.5/38.5 MB 1.2 MB/s eta 0:00:01\n",
      "   -------------------------------------- - 37.6/38.5 MB 1.2 MB/s eta 0:00:01\n",
      "   ---------------------------------------  37.6/38.5 MB 1.2 MB/s eta 0:00:01\n",
      "   ---------------------------------------  37.7/38.5 MB 1.2 MB/s eta 0:00:01\n",
      "   ---------------------------------------  37.7/38.5 MB 1.2 MB/s eta 0:00:01\n",
      "   ---------------------------------------  37.7/38.5 MB 1.2 MB/s eta 0:00:01\n",
      "   ---------------------------------------  37.8/38.5 MB 1.2 MB/s eta 0:00:01\n",
      "   ---------------------------------------  37.8/38.5 MB 1.2 MB/s eta 0:00:01\n",
      "   ---------------------------------------  37.9/38.5 MB 1.2 MB/s eta 0:00:01\n",
      "   ---------------------------------------  37.9/38.5 MB 1.2 MB/s eta 0:00:01\n",
      "   ---------------------------------------  38.0/38.5 MB 1.2 MB/s eta 0:00:01\n",
      "   ---------------------------------------  38.0/38.5 MB 1.2 MB/s eta 0:00:01\n",
      "   ---------------------------------------  38.1/38.5 MB 1.2 MB/s eta 0:00:01\n",
      "   ---------------------------------------  38.1/38.5 MB 1.2 MB/s eta 0:00:01\n",
      "   ---------------------------------------  38.2/38.5 MB 1.2 MB/s eta 0:00:01\n",
      "   ---------------------------------------  38.2/38.5 MB 1.2 MB/s eta 0:00:01\n",
      "   ---------------------------------------  38.3/38.5 MB 1.2 MB/s eta 0:00:01\n",
      "   ---------------------------------------  38.4/38.5 MB 1.2 MB/s eta 0:00:01\n",
      "   ---------------------------------------  38.4/38.5 MB 1.2 MB/s eta 0:00:01\n",
      "   ---------------------------------------  38.5/38.5 MB 1.2 MB/s eta 0:00:01\n",
      "   ---------------------------------------  38.5/38.5 MB 1.2 MB/s eta 0:00:01\n",
      "   ---------------------------------------  38.5/38.5 MB 1.2 MB/s eta 0:00:01\n",
      "   ---------------------------------------  38.5/38.5 MB 1.2 MB/s eta 0:00:01\n",
      "   ---------------------------------------  38.5/38.5 MB 1.2 MB/s eta 0:00:01\n",
      "   ---------------------------------------  38.5/38.5 MB 1.2 MB/s eta 0:00:01\n",
      "   ---------------------------------------  38.5/38.5 MB 1.2 MB/s eta 0:00:01\n",
      "   ---------------------------------------  38.5/38.5 MB 1.2 MB/s eta 0:00:01\n",
      "   ---------------------------------------  38.5/38.5 MB 1.2 MB/s eta 0:00:01\n",
      "   ---------------------------------------  38.5/38.5 MB 1.2 MB/s eta 0:00:01\n",
      "   ---------------------------------------  38.5/38.5 MB 1.2 MB/s eta 0:00:01\n",
      "   ---------------------------------------  38.5/38.5 MB 1.2 MB/s eta 0:00:01\n",
      "   ---------------------------------------  38.5/38.5 MB 1.2 MB/s eta 0:00:01\n",
      "   ---------------------------------------- 38.5/38.5 MB 1.1 MB/s eta 0:00:00\n",
      "Building wheels for collected packages: labelme, imgviz\n",
      "  Building wheel for labelme (setup.py): started\n",
      "  Building wheel for labelme (setup.py): finished with status 'done'\n",
      "  Created wheel for labelme: filename=labelme-5.4.1-py3-none-any.whl size=1436211 sha256=7ba9e62d0b0a972fce431ba0914f7ae6e9b51abef3fdb2a6a360df377bbb8e30\n",
      "  Stored in directory: c:\\users\\elige\\appdata\\local\\pip\\cache\\wheels\\cf\\86\\48\\392ae1bda6acdf4f3bc9ceeaa18bd34ee87683529dd6702de8\n",
      "  Building wheel for imgviz (setup.py): started\n",
      "  Building wheel for imgviz (setup.py): finished with status 'done'\n",
      "  Created wheel for imgviz: filename=imgviz-1.7.5-py3-none-any.whl size=7680257 sha256=8513974911a7e77f28312ee0ed04520eb8f0e636ea6986c8583ac0f4badb5065\n",
      "  Stored in directory: c:\\users\\elige\\appdata\\local\\pip\\cache\\wheels\\af\\96\\dd\\d3642346d9dd2a6c195204cf5ae8df8cb65cab7b95eb7808f8\n",
      "Successfully built labelme imgviz\n",
      "Installing collected packages: pyreadline3, opencv-python-headless, natsort, humanfriendly, coloredlogs, qudida, onnxruntime, imgviz, labelme, albumentations\n",
      "Successfully installed albumentations-1.3.1 coloredlogs-15.0.1 humanfriendly-10.0 imgviz-1.7.5 labelme-5.4.1 natsort-8.4.0 onnxruntime-1.17.0 opencv-python-headless-4.9.0.80 pyreadline3-3.4.1 qudida-0.0.4\n"
     ]
    }
   ],
   "source": [
    "!pip install labelme tensorflow opencv-python matplotlib albumentations"
   ]
  },
  {
   "cell_type": "markdown",
   "metadata": {},
   "source": [
    "### 1.2 Collect Images Using OpenCV"
   ]
  },
  {
   "cell_type": "code",
   "execution_count": 3,
   "metadata": {
    "tags": []
   },
   "outputs": [],
   "source": [
    "import os\n",
    "import time\n",
    "import uuid\n",
    "import cv2"
   ]
  },
  {
   "cell_type": "code",
   "execution_count": 4,
   "metadata": {
    "tags": []
   },
   "outputs": [],
   "source": [
    "IMAGES_PATH = os.path.join('data','images')\n",
    "number_images = 30"
   ]
  },
  {
   "cell_type": "code",
   "execution_count": 6,
   "metadata": {
    "tags": []
   },
   "outputs": [
    {
     "name": "stdout",
     "output_type": "stream",
     "text": [
      "Collecting image 0\n"
     ]
    },
    {
     "ename": "error",
     "evalue": "OpenCV(4.9.0) D:\\a\\opencv-python\\opencv-python\\opencv\\modules\\highgui\\src\\window.cpp:1272: error: (-2:Unspecified error) The function is not implemented. Rebuild the library with Windows, GTK+ 2.x or Cocoa support. If you are on Ubuntu or Debian, install libgtk2.0-dev and pkg-config, then re-run cmake or configure script in function 'cvShowImage'\n",
     "output_type": "error",
     "traceback": [
      "\u001b[1;31m---------------------------------------------------------------------------\u001b[0m",
      "\u001b[1;31merror\u001b[0m                                     Traceback (most recent call last)",
      "Cell \u001b[1;32mIn[6], line 7\u001b[0m\n\u001b[0;32m      5\u001b[0m imgname \u001b[38;5;241m=\u001b[39m os\u001b[38;5;241m.\u001b[39mpath\u001b[38;5;241m.\u001b[39mjoin(IMAGES_PATH,\u001b[38;5;124mf\u001b[39m\u001b[38;5;124m'\u001b[39m\u001b[38;5;132;01m{\u001b[39;00m\u001b[38;5;28mstr\u001b[39m(uuid\u001b[38;5;241m.\u001b[39muuid1())\u001b[38;5;132;01m}\u001b[39;00m\u001b[38;5;124m.jpg\u001b[39m\u001b[38;5;124m'\u001b[39m)\n\u001b[0;32m      6\u001b[0m cv2\u001b[38;5;241m.\u001b[39mimwrite(imgname, frame)\n\u001b[1;32m----> 7\u001b[0m cv2\u001b[38;5;241m.\u001b[39mimshow(\u001b[38;5;124m'\u001b[39m\u001b[38;5;124mframe\u001b[39m\u001b[38;5;124m'\u001b[39m, frame)\n\u001b[0;32m      8\u001b[0m time\u001b[38;5;241m.\u001b[39msleep(\u001b[38;5;241m0.5\u001b[39m)\n\u001b[0;32m     10\u001b[0m \u001b[38;5;28;01mif\u001b[39;00m cv2\u001b[38;5;241m.\u001b[39mwaitKey(\u001b[38;5;241m1\u001b[39m) \u001b[38;5;241m&\u001b[39m \u001b[38;5;241m0xFF\u001b[39m \u001b[38;5;241m==\u001b[39m \u001b[38;5;28mord\u001b[39m(\u001b[38;5;124m'\u001b[39m\u001b[38;5;124mq\u001b[39m\u001b[38;5;124m'\u001b[39m):\n",
      "\u001b[1;31merror\u001b[0m: OpenCV(4.9.0) D:\\a\\opencv-python\\opencv-python\\opencv\\modules\\highgui\\src\\window.cpp:1272: error: (-2:Unspecified error) The function is not implemented. Rebuild the library with Windows, GTK+ 2.x or Cocoa support. If you are on Ubuntu or Debian, install libgtk2.0-dev and pkg-config, then re-run cmake or configure script in function 'cvShowImage'\n"
     ]
    }
   ],
   "source": [
    "cap = cv2.VideoCapture(0)\n",
    "for imgnum in range(number_images):\n",
    "    print('Collecting image {}'.format(imgnum))\n",
    "    ret, frame = cap.read()\n",
    "    imgname = os.path.join(IMAGES_PATH,f'{str(uuid.uuid1())}.jpg')\n",
    "    cv2.imwrite(imgname, frame)\n",
    "    cv2.imshow('frame', frame)\n",
    "    time.sleep(0.5)\n",
    "\n",
    "    if cv2.waitKey(1) & 0xFF == ord('q'):\n",
    "        break\n",
    "cap.release()\n",
    "cv2.destroyAllWindows()"
   ]
  },
  {
   "cell_type": "markdown",
   "metadata": {},
   "source": [
    "### 1.3 Annotate Images with LabelMe"
   ]
  },
  {
   "cell_type": "code",
   "execution_count": null,
   "metadata": {
    "tags": []
   },
   "outputs": [],
   "source": [
    "!labelme"
   ]
  },
  {
   "cell_type": "markdown",
   "metadata": {},
   "source": [
    "# 2. Review Dataset and Build Image Loading Function"
   ]
  },
  {
   "cell_type": "markdown",
   "metadata": {},
   "source": [
    "### 2.1 Import TF and Deps"
   ]
  },
  {
   "cell_type": "code",
   "execution_count": null,
   "metadata": {
    "tags": []
   },
   "outputs": [],
   "source": [
    "import tensorflow as tf\n",
    "import json\n",
    "import numpy as np\n",
    "from matplotlib import pyplot as plt"
   ]
  },
  {
   "cell_type": "markdown",
   "metadata": {},
   "source": [
    "### 2.2 Limit GPU Memory Growth"
   ]
  },
  {
   "cell_type": "code",
   "execution_count": null,
   "metadata": {
    "tags": []
   },
   "outputs": [],
   "source": [
    "# Avoid OOM errors by setting GPU Memory Consumption Growth\n",
    "gpus = tf.config.experimental.list_physical_devices('GPU')\n",
    "for gpu in gpus: \n",
    "    tf.config.experimental.set_memory_growth(gpu, True)"
   ]
  },
  {
   "cell_type": "code",
   "execution_count": null,
   "metadata": {
    "tags": []
   },
   "outputs": [],
   "source": [
    "tf.config.list_physical_devices('GPU')"
   ]
  },
  {
   "cell_type": "markdown",
   "metadata": {},
   "source": [
    "### 2.3 Load Image into TF Data Pipeline"
   ]
  },
  {
   "cell_type": "code",
   "execution_count": null,
   "metadata": {
    "tags": []
   },
   "outputs": [],
   "source": [
    "images = tf.data.Dataset.list_files('data\\\\images\\\\*.jpg')"
   ]
  },
  {
   "cell_type": "code",
   "execution_count": null,
   "metadata": {},
   "outputs": [],
   "source": [
    "images.as_numpy_iterator().next()"
   ]
  },
  {
   "cell_type": "code",
   "execution_count": null,
   "metadata": {
    "tags": []
   },
   "outputs": [],
   "source": [
    "def load_image(x): \n",
    "    byte_img = tf.io.read_file(x)\n",
    "    img = tf.io.decode_jpeg(byte_img)\n",
    "    return img"
   ]
  },
  {
   "cell_type": "code",
   "execution_count": null,
   "metadata": {
    "tags": []
   },
   "outputs": [],
   "source": [
    "images = images.map(load_image)"
   ]
  },
  {
   "cell_type": "code",
   "execution_count": null,
   "metadata": {
    "scrolled": true,
    "tags": []
   },
   "outputs": [],
   "source": [
    "images.as_numpy_iterator().next()"
   ]
  },
  {
   "cell_type": "code",
   "execution_count": null,
   "metadata": {},
   "outputs": [],
   "source": [
    "type(images)"
   ]
  },
  {
   "cell_type": "markdown",
   "metadata": {},
   "source": [
    "### 2.4 View Raw Images with Matplotlib"
   ]
  },
  {
   "cell_type": "code",
   "execution_count": null,
   "metadata": {
    "tags": []
   },
   "outputs": [],
   "source": [
    "image_generator = images.batch(4).as_numpy_iterator()"
   ]
  },
  {
   "cell_type": "code",
   "execution_count": null,
   "metadata": {
    "tags": []
   },
   "outputs": [],
   "source": [
    "plot_images = image_generator.next()"
   ]
  },
  {
   "cell_type": "code",
   "execution_count": null,
   "metadata": {
    "tags": []
   },
   "outputs": [],
   "source": [
    "fig, ax = plt.subplots(ncols=4, figsize=(20,20))\n",
    "for idx, image in enumerate(plot_images):\n",
    "    ax[idx].imshow(image) \n",
    "plt.show()"
   ]
  },
  {
   "cell_type": "markdown",
   "metadata": {},
   "source": [
    "# 3. Partition Unaugmented Data"
   ]
  },
  {
   "cell_type": "markdown",
   "metadata": {},
   "source": [
    "### 3.1 MANUALLY SPLT DATA INTO TRAIN TEST AND VAL"
   ]
  },
  {
   "cell_type": "code",
   "execution_count": null,
   "metadata": {},
   "outputs": [],
   "source": [
    "90*.7 # 63 to train"
   ]
  },
  {
   "cell_type": "code",
   "execution_count": null,
   "metadata": {},
   "outputs": [],
   "source": [
    "90*.15 # 14 and 13 to test and val"
   ]
  },
  {
   "cell_type": "markdown",
   "metadata": {},
   "source": [
    "### 3.2 Move the Matching Labels"
   ]
  },
  {
   "cell_type": "code",
   "execution_count": null,
   "metadata": {
    "tags": []
   },
   "outputs": [],
   "source": [
    "for folder in ['train','test','val']:\n",
    "    for file in os.listdir(os.path.join('data', folder, 'images')):\n",
    "        \n",
    "        filename = file.split('.')[0]+'.json'\n",
    "        existing_filepath = os.path.join('data','labels', filename)\n",
    "        if os.path.exists(existing_filepath): \n",
    "            new_filepath = os.path.join('data',folder,'labels',filename)\n",
    "            os.replace(existing_filepath, new_filepath)      "
   ]
  },
  {
   "cell_type": "markdown",
   "metadata": {},
   "source": [
    "# 4. Apply Image Augmentation on Images and Labels using Albumentations"
   ]
  },
  {
   "cell_type": "markdown",
   "metadata": {},
   "source": [
    "### 4.1 Setup Albumentations Transform Pipeline"
   ]
  },
  {
   "cell_type": "code",
   "execution_count": null,
   "metadata": {
    "tags": []
   },
   "outputs": [],
   "source": [
    "import albumentations as alb"
   ]
  },
  {
   "cell_type": "code",
   "execution_count": null,
   "metadata": {
    "tags": []
   },
   "outputs": [],
   "source": [
    "augmentor = alb.Compose([alb.RandomCrop(width=450, height=450), \n",
    "                         alb.HorizontalFlip(p=0.5), \n",
    "                         alb.RandomBrightnessContrast(p=0.2),\n",
    "                         alb.RandomGamma(p=0.2), \n",
    "                         alb.RGBShift(p=0.2), \n",
    "                         alb.VerticalFlip(p=0.5)], \n",
    "                       bbox_params=alb.BboxParams(format='albumentations', \n",
    "                                                  label_fields=['class_labels']))"
   ]
  },
  {
   "cell_type": "markdown",
   "metadata": {},
   "source": [
    "### 4.2 Load a Test Image and Annotation with OpenCV and JSON"
   ]
  },
  {
   "cell_type": "code",
   "execution_count": null,
   "metadata": {
    "tags": []
   },
   "outputs": [],
   "source": [
    "img = cv2.imread(os.path.join('data','train', 'images','ffd85fc5-cc1a-11ec-bfb8-a0cec8d2d278.jpg'))"
   ]
  },
  {
   "cell_type": "code",
   "execution_count": null,
   "metadata": {
    "tags": []
   },
   "outputs": [],
   "source": [
    "with open(os.path.join('data', 'train', 'labels', 'ffd85fc5-cc1a-11ec-bfb8-a0cec8d2d278.json'), 'r') as f:\n",
    "    label = json.load(f)"
   ]
  },
  {
   "cell_type": "code",
   "execution_count": null,
   "metadata": {},
   "outputs": [],
   "source": [
    "label['shapes'][0]['points']"
   ]
  },
  {
   "cell_type": "markdown",
   "metadata": {},
   "source": [
    "### 4.3 Extract Coordinates and Rescale to Match Image Resolution"
   ]
  },
  {
   "cell_type": "code",
   "execution_count": null,
   "metadata": {
    "tags": []
   },
   "outputs": [],
   "source": [
    "coords = [0,0,0,0]\n",
    "coords[0] = label['shapes'][0]['points'][0][0]\n",
    "coords[1] = label['shapes'][0]['points'][0][1]\n",
    "coords[2] = label['shapes'][0]['points'][1][0]\n",
    "coords[3] = label['shapes'][0]['points'][1][1]"
   ]
  },
  {
   "cell_type": "code",
   "execution_count": null,
   "metadata": {},
   "outputs": [],
   "source": [
    "coords"
   ]
  },
  {
   "cell_type": "code",
   "execution_count": null,
   "metadata": {
    "tags": []
   },
   "outputs": [],
   "source": [
    "coords = list(np.divide(coords, [640,480,640,480]))"
   ]
  },
  {
   "cell_type": "code",
   "execution_count": null,
   "metadata": {},
   "outputs": [],
   "source": [
    "coords"
   ]
  },
  {
   "cell_type": "markdown",
   "metadata": {},
   "source": [
    "### 4.4 Apply Augmentations and View Results"
   ]
  },
  {
   "cell_type": "code",
   "execution_count": null,
   "metadata": {
    "tags": []
   },
   "outputs": [],
   "source": [
    "augmented = augmentor(image=img, bboxes=[coords], class_labels=['face'])"
   ]
  },
  {
   "cell_type": "code",
   "execution_count": null,
   "metadata": {
    "tags": []
   },
   "outputs": [],
   "source": [
    "augmented['bboxes'][0][2:]"
   ]
  },
  {
   "cell_type": "code",
   "execution_count": null,
   "metadata": {},
   "outputs": [],
   "source": [
    "augmented['bboxes']"
   ]
  },
  {
   "cell_type": "code",
   "execution_count": null,
   "metadata": {
    "tags": []
   },
   "outputs": [],
   "source": [
    "cv2.rectangle(augmented['image'], \n",
    "              tuple(np.multiply(augmented['bboxes'][0][:2], [450,450]).astype(int)),\n",
    "              tuple(np.multiply(augmented['bboxes'][0][2:], [450,450]).astype(int)), \n",
    "                    (255,0,0), 2)\n",
    "\n",
    "plt.imshow(augmented['image'])"
   ]
  },
  {
   "cell_type": "markdown",
   "metadata": {},
   "source": [
    "# 5. Build and Run Augmentation Pipeline"
   ]
  },
  {
   "cell_type": "markdown",
   "metadata": {},
   "source": [
    "### 5.1 Run Augmentation Pipeline"
   ]
  },
  {
   "cell_type": "code",
   "execution_count": null,
   "metadata": {
    "tags": []
   },
   "outputs": [],
   "source": [
    "for partition in ['train','test','val']: \n",
    "    for image in os.listdir(os.path.join('data', partition, 'images')):\n",
    "        img = cv2.imread(os.path.join('data', partition, 'images', image))\n",
    "\n",
    "        coords = [0,0,0.00001,0.00001]\n",
    "        label_path = os.path.join('data', partition, 'labels', f'{image.split(\".\")[0]}.json')\n",
    "        if os.path.exists(label_path):\n",
    "            with open(label_path, 'r') as f:\n",
    "                label = json.load(f)\n",
    "\n",
    "            coords[0] = label['shapes'][0]['points'][0][0]\n",
    "            coords[1] = label['shapes'][0]['points'][0][1]\n",
    "            coords[2] = label['shapes'][0]['points'][1][0]\n",
    "            coords[3] = label['shapes'][0]['points'][1][1]\n",
    "            coords = list(np.divide(coords, [640,480,640,480]))\n",
    "\n",
    "        try: \n",
    "            for x in range(60):\n",
    "                augmented = augmentor(image=img, bboxes=[coords], class_labels=['face'])\n",
    "                cv2.imwrite(os.path.join('aug_data', partition, 'images', f'{image.split(\".\")[0]}.{x}.jpg'), augmented['image'])\n",
    "\n",
    "                annotation = {}\n",
    "                annotation['image'] = image\n",
    "\n",
    "                if os.path.exists(label_path):\n",
    "                    if len(augmented['bboxes']) == 0: \n",
    "                        annotation['bbox'] = [0,0,0,0]\n",
    "                        annotation['class'] = 0 \n",
    "                    else: \n",
    "                        annotation['bbox'] = augmented['bboxes'][0]\n",
    "                        annotation['class'] = 1\n",
    "                else: \n",
    "                    annotation['bbox'] = [0,0,0,0]\n",
    "                    annotation['class'] = 0 \n",
    "\n",
    "\n",
    "                with open(os.path.join('aug_data', partition, 'labels', f'{image.split(\".\")[0]}.{x}.json'), 'w') as f:\n",
    "                    json.dump(annotation, f)\n",
    "\n",
    "        except Exception as e:\n",
    "            print(e)"
   ]
  },
  {
   "cell_type": "markdown",
   "metadata": {},
   "source": [
    "### 5.2 Load Augmented Images to Tensorflow Dataset"
   ]
  },
  {
   "cell_type": "code",
   "execution_count": null,
   "metadata": {
    "tags": []
   },
   "outputs": [],
   "source": [
    "train_images = tf.data.Dataset.list_files('aug_data\\\\train\\\\images\\\\*.jpg', shuffle=False)\n",
    "train_images = train_images.map(load_image)\n",
    "train_images = train_images.map(lambda x: tf.image.resize(x, (120,120)))\n",
    "train_images = train_images.map(lambda x: x/255)"
   ]
  },
  {
   "cell_type": "code",
   "execution_count": null,
   "metadata": {
    "tags": []
   },
   "outputs": [],
   "source": [
    "test_images = tf.data.Dataset.list_files('aug_data\\\\test\\\\images\\\\*.jpg', shuffle=False)\n",
    "test_images = test_images.map(load_image)\n",
    "test_images = test_images.map(lambda x: tf.image.resize(x, (120,120)))\n",
    "test_images = test_images.map(lambda x: x/255)"
   ]
  },
  {
   "cell_type": "code",
   "execution_count": null,
   "metadata": {
    "tags": []
   },
   "outputs": [],
   "source": [
    "val_images = tf.data.Dataset.list_files('aug_data\\\\val\\\\images\\\\*.jpg', shuffle=False)\n",
    "val_images = val_images.map(load_image)\n",
    "val_images = val_images.map(lambda x: tf.image.resize(x, (120,120)))\n",
    "val_images = val_images.map(lambda x: x/255)"
   ]
  },
  {
   "cell_type": "code",
   "execution_count": null,
   "metadata": {
    "tags": []
   },
   "outputs": [],
   "source": [
    "train_images.as_numpy_iterator().next()"
   ]
  },
  {
   "cell_type": "markdown",
   "metadata": {},
   "source": [
    "# 6. Prepare Labels"
   ]
  },
  {
   "cell_type": "markdown",
   "metadata": {},
   "source": [
    "### 6.1 Build Label Loading Function"
   ]
  },
  {
   "cell_type": "code",
   "execution_count": null,
   "metadata": {
    "tags": []
   },
   "outputs": [],
   "source": [
    "def load_labels(label_path):\n",
    "    with open(label_path.numpy(), 'r', encoding = \"utf-8\") as f:\n",
    "        label = json.load(f)\n",
    "        \n",
    "    return [label['class']], label['bbox']"
   ]
  },
  {
   "cell_type": "markdown",
   "metadata": {},
   "source": [
    "### 6.2 Load Labels to Tensorflow Dataset"
   ]
  },
  {
   "cell_type": "code",
   "execution_count": null,
   "metadata": {
    "tags": []
   },
   "outputs": [],
   "source": [
    "train_labels = tf.data.Dataset.list_files('aug_data\\\\train\\\\labels\\\\*.json', shuffle=False)\n",
    "train_labels = train_labels.map(lambda x: tf.py_function(load_labels, [x], [tf.uint8, tf.float16]))"
   ]
  },
  {
   "cell_type": "code",
   "execution_count": null,
   "metadata": {
    "tags": []
   },
   "outputs": [],
   "source": [
    "test_labels = tf.data.Dataset.list_files('aug_data\\\\test\\\\labels\\\\*.json', shuffle=False)\n",
    "test_labels = test_labels.map(lambda x: tf.py_function(load_labels, [x], [tf.uint8, tf.float16]))"
   ]
  },
  {
   "cell_type": "code",
   "execution_count": null,
   "metadata": {
    "tags": []
   },
   "outputs": [],
   "source": [
    "val_labels = tf.data.Dataset.list_files('aug_data\\\\val\\\\labels\\\\*.json', shuffle=False)\n",
    "val_labels = val_labels.map(lambda x: tf.py_function(load_labels, [x], [tf.uint8, tf.float16]))"
   ]
  },
  {
   "cell_type": "code",
   "execution_count": null,
   "metadata": {},
   "outputs": [],
   "source": [
    "train_labels.as_numpy_iterator().next()"
   ]
  },
  {
   "cell_type": "markdown",
   "metadata": {},
   "source": [
    "# 7. Combine Label and Image Samples"
   ]
  },
  {
   "cell_type": "markdown",
   "metadata": {},
   "source": [
    "### 7.1 Check Partition Lengths"
   ]
  },
  {
   "cell_type": "code",
   "execution_count": null,
   "metadata": {
    "tags": []
   },
   "outputs": [],
   "source": [
    "len(train_images), len(train_labels), len(test_images), len(test_labels), len(val_images), len(val_labels)"
   ]
  },
  {
   "cell_type": "markdown",
   "metadata": {},
   "source": [
    "### 7.2 Create Final Datasets (Images/Labels)"
   ]
  },
  {
   "cell_type": "code",
   "execution_count": null,
   "metadata": {
    "tags": []
   },
   "outputs": [],
   "source": [
    "train = tf.data.Dataset.zip((train_images, train_labels))\n",
    "train = train.shuffle(5000)\n",
    "train = train.batch(8)\n",
    "train = train.prefetch(4)"
   ]
  },
  {
   "cell_type": "code",
   "execution_count": null,
   "metadata": {
    "tags": []
   },
   "outputs": [],
   "source": [
    "test = tf.data.Dataset.zip((test_images, test_labels))\n",
    "test = test.shuffle(1300)\n",
    "test = test.batch(8)\n",
    "test = test.prefetch(4)"
   ]
  },
  {
   "cell_type": "code",
   "execution_count": null,
   "metadata": {
    "tags": []
   },
   "outputs": [],
   "source": [
    "val = tf.data.Dataset.zip((val_images, val_labels))\n",
    "val = val.shuffle(1000)\n",
    "val = val.batch(8)\n",
    "val = val.prefetch(4)"
   ]
  },
  {
   "cell_type": "code",
   "execution_count": null,
   "metadata": {
    "tags": []
   },
   "outputs": [],
   "source": [
    "train.as_numpy_iterator().next()[1]"
   ]
  },
  {
   "cell_type": "markdown",
   "metadata": {},
   "source": [
    "### 7.3 View Images and Annotations"
   ]
  },
  {
   "cell_type": "code",
   "execution_count": null,
   "metadata": {
    "scrolled": true,
    "tags": []
   },
   "outputs": [],
   "source": [
    "data_samples = train.as_numpy_iterator()"
   ]
  },
  {
   "cell_type": "code",
   "execution_count": null,
   "metadata": {
    "tags": []
   },
   "outputs": [],
   "source": [
    "res = data_samples.next()"
   ]
  },
  {
   "cell_type": "code",
   "execution_count": null,
   "metadata": {
    "tags": []
   },
   "outputs": [],
   "source": [
    "fig, ax = plt.subplots(ncols=4, figsize=(20,20))\n",
    "for idx in range(4): \n",
    "    sample_image = res[0][idx]\n",
    "    sample_coords = res[1][1][idx]\n",
    "    \n",
    "    cv2.rectangle(sample_image, \n",
    "                  tuple(np.multiply(sample_coords[:2], [120,120]).astype(int)),\n",
    "                  tuple(np.multiply(sample_coords[2:], [120,120]).astype(int)), \n",
    "                        (255,0,0), 2)\n",
    "\n",
    "    ax[idx].imshow(sample_image)"
   ]
  },
  {
   "cell_type": "markdown",
   "metadata": {},
   "source": [
    "# 8. Build Deep Learning using the Functional API"
   ]
  },
  {
   "cell_type": "markdown",
   "metadata": {},
   "source": [
    "### 8.1 Import Layers and Base Network"
   ]
  },
  {
   "cell_type": "code",
   "execution_count": null,
   "metadata": {
    "tags": []
   },
   "outputs": [],
   "source": [
    "from tensorflow.keras.models import Model\n",
    "from tensorflow.keras.layers import Input, Conv2D, Dense, GlobalMaxPooling2D\n",
    "from tensorflow.keras.applications import VGG16"
   ]
  },
  {
   "cell_type": "markdown",
   "metadata": {},
   "source": [
    "### 8.2 Download VGG16"
   ]
  },
  {
   "cell_type": "code",
   "execution_count": null,
   "metadata": {
    "tags": []
   },
   "outputs": [],
   "source": [
    "vgg = VGG16(include_top=False)"
   ]
  },
  {
   "cell_type": "code",
   "execution_count": null,
   "metadata": {
    "tags": []
   },
   "outputs": [],
   "source": [
    "vgg.summary()"
   ]
  },
  {
   "cell_type": "markdown",
   "metadata": {},
   "source": [
    "### 8.3 Build instance of Network"
   ]
  },
  {
   "cell_type": "code",
   "execution_count": null,
   "metadata": {
    "tags": []
   },
   "outputs": [],
   "source": [
    "def build_model(): \n",
    "    input_layer = Input(shape=(120,120,3))\n",
    "    \n",
    "    vgg = VGG16(include_top=False)(input_layer)\n",
    "\n",
    "    # Classification Model  \n",
    "    f1 = GlobalMaxPooling2D()(vgg)\n",
    "    class1 = Dense(2048, activation='relu')(f1)\n",
    "    class2 = Dense(1, activation='sigmoid')(class1)\n",
    "    \n",
    "    # Bounding box model\n",
    "    f2 = GlobalMaxPooling2D()(vgg)\n",
    "    regress1 = Dense(2048, activation='relu')(f2)\n",
    "    regress2 = Dense(4, activation='sigmoid')(regress1)\n",
    "    \n",
    "    facetracker = Model(inputs=input_layer, outputs=[class2, regress2])\n",
    "    return facetracker"
   ]
  },
  {
   "cell_type": "markdown",
   "metadata": {},
   "source": [
    "### 8.4 Test out Neural Network"
   ]
  },
  {
   "cell_type": "code",
   "execution_count": null,
   "metadata": {
    "tags": []
   },
   "outputs": [],
   "source": [
    "facetracker = build_model()"
   ]
  },
  {
   "cell_type": "code",
   "execution_count": null,
   "metadata": {
    "tags": []
   },
   "outputs": [],
   "source": [
    "facetracker.summary()"
   ]
  },
  {
   "cell_type": "code",
   "execution_count": null,
   "metadata": {
    "tags": []
   },
   "outputs": [],
   "source": [
    "X, y = train.as_numpy_iterator().next()"
   ]
  },
  {
   "cell_type": "code",
   "execution_count": null,
   "metadata": {
    "tags": []
   },
   "outputs": [],
   "source": [
    "X.shape"
   ]
  },
  {
   "cell_type": "code",
   "execution_count": null,
   "metadata": {
    "tags": []
   },
   "outputs": [],
   "source": [
    "classes, coords = facetracker.predict(X)"
   ]
  },
  {
   "cell_type": "code",
   "execution_count": null,
   "metadata": {
    "tags": []
   },
   "outputs": [],
   "source": [
    "classes, coords"
   ]
  },
  {
   "cell_type": "markdown",
   "metadata": {},
   "source": [
    "# 9. Define Losses and Optimizers"
   ]
  },
  {
   "cell_type": "markdown",
   "metadata": {},
   "source": [
    "### 9.1 Define Optimizer and LR"
   ]
  },
  {
   "cell_type": "code",
   "execution_count": null,
   "metadata": {
    "tags": []
   },
   "outputs": [],
   "source": [
    "batches_per_epoch = len(train)\n",
    "lr_decay = (1./0.75 -1)/batches_per_epoch"
   ]
  },
  {
   "cell_type": "code",
   "execution_count": null,
   "metadata": {
    "tags": []
   },
   "outputs": [],
   "source": [
    "opt = tf.keras.optimizers.Adam(learning_rate=0.0001, decay=lr_decay)"
   ]
  },
  {
   "cell_type": "markdown",
   "metadata": {},
   "source": [
    "### 9.2 Create Localization Loss and Classification Loss"
   ]
  },
  {
   "cell_type": "code",
   "execution_count": null,
   "metadata": {
    "tags": []
   },
   "outputs": [],
   "source": [
    "def localization_loss(y_true, yhat):            \n",
    "    delta_coord = tf.reduce_sum(tf.square(y_true[:,:2] - yhat[:,:2]))\n",
    "                  \n",
    "    h_true = y_true[:,3] - y_true[:,1] \n",
    "    w_true = y_true[:,2] - y_true[:,0] \n",
    "\n",
    "    h_pred = yhat[:,3] - yhat[:,1] \n",
    "    w_pred = yhat[:,2] - yhat[:,0] \n",
    "    \n",
    "    delta_size = tf.reduce_sum(tf.square(w_true - w_pred) + tf.square(h_true-h_pred))\n",
    "    \n",
    "    return delta_coord + delta_size"
   ]
  },
  {
   "cell_type": "code",
   "execution_count": null,
   "metadata": {
    "tags": []
   },
   "outputs": [],
   "source": [
    "classloss = tf.keras.losses.BinaryCrossentropy()\n",
    "regressloss = localization_loss"
   ]
  },
  {
   "cell_type": "markdown",
   "metadata": {},
   "source": [
    "### 9.3 Test out Loss Metrics"
   ]
  },
  {
   "cell_type": "code",
   "execution_count": null,
   "metadata": {
    "tags": []
   },
   "outputs": [],
   "source": [
    "localization_loss(y[1], coords)"
   ]
  },
  {
   "cell_type": "code",
   "execution_count": null,
   "metadata": {
    "tags": []
   },
   "outputs": [],
   "source": [
    "classloss(y[0], classes)"
   ]
  },
  {
   "cell_type": "code",
   "execution_count": null,
   "metadata": {
    "tags": []
   },
   "outputs": [],
   "source": [
    "regressloss(y[1], coords)"
   ]
  },
  {
   "cell_type": "markdown",
   "metadata": {},
   "source": [
    "# 10. Train Neural Network"
   ]
  },
  {
   "cell_type": "markdown",
   "metadata": {},
   "source": [
    "### 10.1 Create Custom Model Class"
   ]
  },
  {
   "cell_type": "code",
   "execution_count": null,
   "metadata": {
    "tags": []
   },
   "outputs": [],
   "source": [
    "class FaceTracker(Model): \n",
    "    def __init__(self, eyetracker,  **kwargs): \n",
    "        super().__init__(**kwargs)\n",
    "        self.model = eyetracker\n",
    "\n",
    "    def compile(self, opt, classloss, localizationloss, **kwargs):\n",
    "        super().compile(**kwargs)\n",
    "        self.closs = classloss\n",
    "        self.lloss = localizationloss\n",
    "        self.opt = opt\n",
    "    \n",
    "    def train_step(self, batch, **kwargs): \n",
    "        \n",
    "        X, y = batch\n",
    "        \n",
    "        with tf.GradientTape() as tape: \n",
    "            classes, coords = self.model(X, training=True)\n",
    "            \n",
    "            batch_classloss = self.closs(y[0], classes)\n",
    "            batch_localizationloss = self.lloss(tf.cast(y[1], tf.float32), coords)\n",
    "            \n",
    "            total_loss = batch_localizationloss+0.5*batch_classloss\n",
    "            \n",
    "            grad = tape.gradient(total_loss, self.model.trainable_variables)\n",
    "        \n",
    "        opt.apply_gradients(zip(grad, self.model.trainable_variables))\n",
    "        \n",
    "        return {\"total_loss\":total_loss, \"class_loss\":batch_classloss, \"regress_loss\":batch_localizationloss}\n",
    "    \n",
    "    def test_step(self, batch, **kwargs): \n",
    "        X, y = batch\n",
    "        \n",
    "        classes, coords = self.model(X, training=False)\n",
    "        \n",
    "        batch_classloss = self.closs(y[0], classes)\n",
    "        batch_localizationloss = self.lloss(tf.cast(y[1], tf.float32), coords)\n",
    "        total_loss = batch_localizationloss+0.5*batch_classloss\n",
    "        \n",
    "        return {\"total_loss\":total_loss, \"class_loss\":batch_classloss, \"regress_loss\":batch_localizationloss}\n",
    "        \n",
    "    def call(self, X, **kwargs): \n",
    "        return self.model(X, **kwargs)"
   ]
  },
  {
   "cell_type": "code",
   "execution_count": null,
   "metadata": {
    "tags": []
   },
   "outputs": [],
   "source": [
    "model = FaceTracker(facetracker)"
   ]
  },
  {
   "cell_type": "code",
   "execution_count": null,
   "metadata": {
    "tags": []
   },
   "outputs": [],
   "source": [
    "model.compile(opt, classloss, regressloss)"
   ]
  },
  {
   "cell_type": "markdown",
   "metadata": {},
   "source": [
    "### 10.2 Train"
   ]
  },
  {
   "cell_type": "code",
   "execution_count": null,
   "metadata": {
    "tags": []
   },
   "outputs": [],
   "source": [
    "logdir='logs'"
   ]
  },
  {
   "cell_type": "code",
   "execution_count": null,
   "metadata": {
    "tags": []
   },
   "outputs": [],
   "source": [
    "tensorboard_callback = tf.keras.callbacks.TensorBoard(log_dir=logdir)"
   ]
  },
  {
   "cell_type": "code",
   "execution_count": null,
   "metadata": {
    "scrolled": true,
    "tags": []
   },
   "outputs": [],
   "source": [
    "hist = model.fit(train, epochs=10, validation_data=val, callbacks=[tensorboard_callback])"
   ]
  },
  {
   "cell_type": "markdown",
   "metadata": {},
   "source": [
    "### 10.3 Plot Performance"
   ]
  },
  {
   "cell_type": "code",
   "execution_count": null,
   "metadata": {
    "scrolled": true,
    "tags": []
   },
   "outputs": [],
   "source": [
    "hist.history"
   ]
  },
  {
   "cell_type": "code",
   "execution_count": null,
   "metadata": {
    "tags": []
   },
   "outputs": [],
   "source": [
    "fig, ax = plt.subplots(ncols=3, figsize=(20,5))\n",
    "\n",
    "ax[0].plot(hist.history['total_loss'], color='teal', label='loss')\n",
    "ax[0].plot(hist.history['val_total_loss'], color='orange', label='val loss')\n",
    "ax[0].title.set_text('Loss')\n",
    "ax[0].legend()\n",
    "\n",
    "ax[1].plot(hist.history['class_loss'], color='teal', label='class loss')\n",
    "ax[1].plot(hist.history['val_class_loss'], color='orange', label='val class loss')\n",
    "ax[1].title.set_text('Classification Loss')\n",
    "ax[1].legend()\n",
    "\n",
    "ax[2].plot(hist.history['regress_loss'], color='teal', label='regress loss')\n",
    "ax[2].plot(hist.history['val_regress_loss'], color='orange', label='val regress loss')\n",
    "ax[2].title.set_text('Regression Loss')\n",
    "ax[2].legend()\n",
    "\n",
    "plt.show()"
   ]
  },
  {
   "cell_type": "markdown",
   "metadata": {},
   "source": [
    "# 11. Make Predictions"
   ]
  },
  {
   "cell_type": "markdown",
   "metadata": {},
   "source": [
    "### 11.1 Make Predictions on Test Set"
   ]
  },
  {
   "cell_type": "code",
   "execution_count": null,
   "metadata": {
    "tags": []
   },
   "outputs": [],
   "source": [
    "test_data = test.as_numpy_iterator()"
   ]
  },
  {
   "cell_type": "code",
   "execution_count": null,
   "metadata": {
    "tags": []
   },
   "outputs": [],
   "source": [
    "test_sample = test_data.next()"
   ]
  },
  {
   "cell_type": "code",
   "execution_count": null,
   "metadata": {
    "tags": []
   },
   "outputs": [],
   "source": [
    "yhat = facetracker.predict(test_sample[0])"
   ]
  },
  {
   "cell_type": "code",
   "execution_count": null,
   "metadata": {
    "tags": []
   },
   "outputs": [],
   "source": [
    "fig, ax = plt.subplots(ncols=4, figsize=(20,20))\n",
    "for idx in range(4): \n",
    "    sample_image = test_sample[0][idx]\n",
    "    sample_coords = yhat[1][idx]\n",
    "    \n",
    "    if yhat[0][idx] > 0.9:\n",
    "        cv2.rectangle(sample_image, \n",
    "                      tuple(np.multiply(sample_coords[:2], [120,120]).astype(int)),\n",
    "                      tuple(np.multiply(sample_coords[2:], [120,120]).astype(int)), \n",
    "                            (255,0,0), 2)\n",
    "    \n",
    "    ax[idx].imshow(sample_image)"
   ]
  },
  {
   "cell_type": "markdown",
   "metadata": {},
   "source": [
    "### 11.2 Save the Model"
   ]
  },
  {
   "cell_type": "code",
   "execution_count": null,
   "metadata": {
    "tags": []
   },
   "outputs": [],
   "source": [
    "from tensorflow.keras.models import load_model"
   ]
  },
  {
   "cell_type": "code",
   "execution_count": null,
   "metadata": {
    "tags": []
   },
   "outputs": [],
   "source": [
    "facetracker.save('facetracker.h5')"
   ]
  },
  {
   "cell_type": "code",
   "execution_count": null,
   "metadata": {
    "tags": []
   },
   "outputs": [],
   "source": [
    "facetracker = load_model('facetracker.h5')"
   ]
  },
  {
   "cell_type": "markdown",
   "metadata": {},
   "source": [
    "### 11.3 Real Time Detection"
   ]
  },
  {
   "cell_type": "code",
   "execution_count": null,
   "metadata": {
    "tags": []
   },
   "outputs": [],
   "source": [
    "cap = cv2.VideoCapture(1)\n",
    "while cap.isOpened():\n",
    "    _ , frame = cap.read()\n",
    "    frame = frame[50:500, 50:500,:]\n",
    "    \n",
    "    rgb = cv2.cvtColor(frame, cv2.COLOR_BGR2RGB)\n",
    "    resized = tf.image.resize(rgb, (120,120))\n",
    "    \n",
    "    yhat = facetracker.predict(np.expand_dims(resized/255,0))\n",
    "    sample_coords = yhat[1][0]\n",
    "    \n",
    "    if yhat[0] > 0.5: \n",
    "        # Controls the main rectangle\n",
    "        cv2.rectangle(frame, \n",
    "                      tuple(np.multiply(sample_coords[:2], [450,450]).astype(int)),\n",
    "                      tuple(np.multiply(sample_coords[2:], [450,450]).astype(int)), \n",
    "                            (255,0,0), 2)\n",
    "        # Controls the label rectangle\n",
    "        cv2.rectangle(frame, \n",
    "                      tuple(np.add(np.multiply(sample_coords[:2], [450,450]).astype(int), \n",
    "                                    [0,-30])),\n",
    "                      tuple(np.add(np.multiply(sample_coords[:2], [450,450]).astype(int),\n",
    "                                    [80,0])), \n",
    "                            (255,0,0), -1)\n",
    "        \n",
    "        # Controls the text rendered\n",
    "        cv2.putText(frame, 'face', tuple(np.add(np.multiply(sample_coords[:2], [450,450]).astype(int),\n",
    "                                               [0,-5])),\n",
    "                    cv2.FONT_HERSHEY_SIMPLEX, 1, (255,255,255), 2, cv2.LINE_AA)\n",
    "    \n",
    "    cv2.imshow('EyeTrack', frame)\n",
    "    \n",
    "    if cv2.waitKey(1) & 0xFF == ord('q'):\n",
    "        break\n",
    "cap.release()\n",
    "cv2.destroyAllWindows()"
   ]
  },
  {
   "cell_type": "code",
   "execution_count": null,
   "metadata": {},
   "outputs": [],
   "source": []
  }
 ],
 "metadata": {
  "kernelspec": {
   "display_name": "base",
   "language": "python",
   "name": "python3"
  },
  "language_info": {
   "codemirror_mode": {
    "name": "ipython",
    "version": 3
   },
   "file_extension": ".py",
   "mimetype": "text/x-python",
   "name": "python",
   "nbconvert_exporter": "python",
   "pygments_lexer": "ipython3",
   "version": "0.0.0"
  }
 },
 "nbformat": 4,
 "nbformat_minor": 4
}
